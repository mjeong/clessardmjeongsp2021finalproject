{
 "cells": [
  {
   "cell_type": "markdown",
   "id": "functioning-delhi",
   "metadata": {},
   "source": [
    "# Final Report\n",
    "Carli Lessard and Men Cheol Jeong  \n",
    "clessard6 and mjeong42"
   ]
  },
  {
   "cell_type": "markdown",
   "id": "healthy-senate",
   "metadata": {},
   "source": [
    "### Step 1\n",
    "Answer the following questions in the final project report:\n",
    "* Which dataset did you select?\n",
    "Census Income Data Set [link here](https://archive.ics.uci.edu/ml/datasets/census+income)\n",
    "* Which regulated domain does your dataset belong to?\n",
    "This dataset was chosen because it could be used for the protected domains of education and employment\n",
    "* How many observations are in the dataset?\n",
    "48842\n",
    "* How many variables in the dataset?\n",
    "14\n",
    "* Which variables did you select as your dependent variables?\n",
    "Workclass and education\n",
    "* How many and which variables in the dataset are associated with a legally recognized protected class? Which legal precedence/law (as discussed in the lectures)does each protected class fall under?\n",
    "5 variables are associated with a legally recognized protected class.\n",
    "1. age: Age Discrimination in Employment Act of 1967\n",
    "2. marital status: Civil Rights Act of 1968\n",
    "3. race: Civil Rights Act of 1964, 1991\n",
    "4. sex: Equal Pay Act of 1963; Civil Rights Act of 1964, 1991\n",
    "5. native-country: Civil Rights Act of 1964, 1991"
   ]
  },
  {
   "cell_type": "markdown",
   "id": "headed-array",
   "metadata": {},
   "source": [
    "### Step 2"
   ]
  },
  {
   "cell_type": "code",
   "execution_count": 123,
   "id": "relevant-legislature",
   "metadata": {},
   "outputs": [],
   "source": [
    "import pandas as pd\n",
    "import matplotlib.pyplot as plt\n",
    "import numpy as np\n",
    "import math\n",
    "from aif360.datasets import StandardDataset\n",
    "from aif360.metrics import BinaryLabelDatasetMetric\n",
    "from aif360.algorithms.preprocessing import DisparateImpactRemover, Reweighing\n",
    "from sklearn.preprocessing import StandardScaler\n",
    "from sklearn.linear_model import LogisticRegression"
   ]
  },
  {
   "cell_type": "code",
   "execution_count": 62,
   "id": "structural-night",
   "metadata": {},
   "outputs": [],
   "source": [
    "df = pd.read_csv(\n",
    "    \"adult.data\", \n",
    "    header=None, \n",
    "    names= [\"age\", \"workclass\", \"fnlwgt\", \"education\", \"education_num\", \"marital_status\", \"occupation\", \"relationship\", \"race\", \"sex\", \"capital_gain\", \"capital_loss\", \"hours_per_week\", \"native_country\", \"more_or_less_50\"])"
   ]
  },
  {
   "cell_type": "code",
   "execution_count": 63,
   "id": "harmful-advertiser",
   "metadata": {},
   "outputs": [
    {
     "data": {
      "text/html": [
       "<div>\n",
       "<style scoped>\n",
       "    .dataframe tbody tr th:only-of-type {\n",
       "        vertical-align: middle;\n",
       "    }\n",
       "\n",
       "    .dataframe tbody tr th {\n",
       "        vertical-align: top;\n",
       "    }\n",
       "\n",
       "    .dataframe thead th {\n",
       "        text-align: right;\n",
       "    }\n",
       "</style>\n",
       "<table border=\"1\" class=\"dataframe\">\n",
       "  <thead>\n",
       "    <tr style=\"text-align: right;\">\n",
       "      <th></th>\n",
       "      <th>age</th>\n",
       "      <th>workclass</th>\n",
       "      <th>fnlwgt</th>\n",
       "      <th>education</th>\n",
       "      <th>education_num</th>\n",
       "      <th>marital_status</th>\n",
       "      <th>occupation</th>\n",
       "      <th>relationship</th>\n",
       "      <th>race</th>\n",
       "      <th>sex</th>\n",
       "      <th>capital_gain</th>\n",
       "      <th>capital_loss</th>\n",
       "      <th>hours_per_week</th>\n",
       "      <th>native_country</th>\n",
       "      <th>more_or_less_50</th>\n",
       "    </tr>\n",
       "  </thead>\n",
       "  <tbody>\n",
       "    <tr>\n",
       "      <th>0</th>\n",
       "      <td>39</td>\n",
       "      <td>State-gov</td>\n",
       "      <td>77516</td>\n",
       "      <td>Bachelors</td>\n",
       "      <td>13</td>\n",
       "      <td>Never-married</td>\n",
       "      <td>Adm-clerical</td>\n",
       "      <td>Not-in-family</td>\n",
       "      <td>White</td>\n",
       "      <td>Male</td>\n",
       "      <td>2174</td>\n",
       "      <td>0</td>\n",
       "      <td>40</td>\n",
       "      <td>United-States</td>\n",
       "      <td>&lt;=50K</td>\n",
       "    </tr>\n",
       "    <tr>\n",
       "      <th>1</th>\n",
       "      <td>50</td>\n",
       "      <td>Self-emp-not-inc</td>\n",
       "      <td>83311</td>\n",
       "      <td>Bachelors</td>\n",
       "      <td>13</td>\n",
       "      <td>Married-civ-spouse</td>\n",
       "      <td>Exec-managerial</td>\n",
       "      <td>Husband</td>\n",
       "      <td>White</td>\n",
       "      <td>Male</td>\n",
       "      <td>0</td>\n",
       "      <td>0</td>\n",
       "      <td>13</td>\n",
       "      <td>United-States</td>\n",
       "      <td>&lt;=50K</td>\n",
       "    </tr>\n",
       "    <tr>\n",
       "      <th>2</th>\n",
       "      <td>38</td>\n",
       "      <td>Private</td>\n",
       "      <td>215646</td>\n",
       "      <td>HS-grad</td>\n",
       "      <td>9</td>\n",
       "      <td>Divorced</td>\n",
       "      <td>Handlers-cleaners</td>\n",
       "      <td>Not-in-family</td>\n",
       "      <td>White</td>\n",
       "      <td>Male</td>\n",
       "      <td>0</td>\n",
       "      <td>0</td>\n",
       "      <td>40</td>\n",
       "      <td>United-States</td>\n",
       "      <td>&lt;=50K</td>\n",
       "    </tr>\n",
       "    <tr>\n",
       "      <th>3</th>\n",
       "      <td>53</td>\n",
       "      <td>Private</td>\n",
       "      <td>234721</td>\n",
       "      <td>11th</td>\n",
       "      <td>7</td>\n",
       "      <td>Married-civ-spouse</td>\n",
       "      <td>Handlers-cleaners</td>\n",
       "      <td>Husband</td>\n",
       "      <td>Black</td>\n",
       "      <td>Male</td>\n",
       "      <td>0</td>\n",
       "      <td>0</td>\n",
       "      <td>40</td>\n",
       "      <td>United-States</td>\n",
       "      <td>&lt;=50K</td>\n",
       "    </tr>\n",
       "    <tr>\n",
       "      <th>4</th>\n",
       "      <td>28</td>\n",
       "      <td>Private</td>\n",
       "      <td>338409</td>\n",
       "      <td>Bachelors</td>\n",
       "      <td>13</td>\n",
       "      <td>Married-civ-spouse</td>\n",
       "      <td>Prof-specialty</td>\n",
       "      <td>Wife</td>\n",
       "      <td>Black</td>\n",
       "      <td>Female</td>\n",
       "      <td>0</td>\n",
       "      <td>0</td>\n",
       "      <td>40</td>\n",
       "      <td>Cuba</td>\n",
       "      <td>&lt;=50K</td>\n",
       "    </tr>\n",
       "    <tr>\n",
       "      <th>...</th>\n",
       "      <td>...</td>\n",
       "      <td>...</td>\n",
       "      <td>...</td>\n",
       "      <td>...</td>\n",
       "      <td>...</td>\n",
       "      <td>...</td>\n",
       "      <td>...</td>\n",
       "      <td>...</td>\n",
       "      <td>...</td>\n",
       "      <td>...</td>\n",
       "      <td>...</td>\n",
       "      <td>...</td>\n",
       "      <td>...</td>\n",
       "      <td>...</td>\n",
       "      <td>...</td>\n",
       "    </tr>\n",
       "    <tr>\n",
       "      <th>32556</th>\n",
       "      <td>27</td>\n",
       "      <td>Private</td>\n",
       "      <td>257302</td>\n",
       "      <td>Assoc-acdm</td>\n",
       "      <td>12</td>\n",
       "      <td>Married-civ-spouse</td>\n",
       "      <td>Tech-support</td>\n",
       "      <td>Wife</td>\n",
       "      <td>White</td>\n",
       "      <td>Female</td>\n",
       "      <td>0</td>\n",
       "      <td>0</td>\n",
       "      <td>38</td>\n",
       "      <td>United-States</td>\n",
       "      <td>&lt;=50K</td>\n",
       "    </tr>\n",
       "    <tr>\n",
       "      <th>32557</th>\n",
       "      <td>40</td>\n",
       "      <td>Private</td>\n",
       "      <td>154374</td>\n",
       "      <td>HS-grad</td>\n",
       "      <td>9</td>\n",
       "      <td>Married-civ-spouse</td>\n",
       "      <td>Machine-op-inspct</td>\n",
       "      <td>Husband</td>\n",
       "      <td>White</td>\n",
       "      <td>Male</td>\n",
       "      <td>0</td>\n",
       "      <td>0</td>\n",
       "      <td>40</td>\n",
       "      <td>United-States</td>\n",
       "      <td>&gt;50K</td>\n",
       "    </tr>\n",
       "    <tr>\n",
       "      <th>32558</th>\n",
       "      <td>58</td>\n",
       "      <td>Private</td>\n",
       "      <td>151910</td>\n",
       "      <td>HS-grad</td>\n",
       "      <td>9</td>\n",
       "      <td>Widowed</td>\n",
       "      <td>Adm-clerical</td>\n",
       "      <td>Unmarried</td>\n",
       "      <td>White</td>\n",
       "      <td>Female</td>\n",
       "      <td>0</td>\n",
       "      <td>0</td>\n",
       "      <td>40</td>\n",
       "      <td>United-States</td>\n",
       "      <td>&lt;=50K</td>\n",
       "    </tr>\n",
       "    <tr>\n",
       "      <th>32559</th>\n",
       "      <td>22</td>\n",
       "      <td>Private</td>\n",
       "      <td>201490</td>\n",
       "      <td>HS-grad</td>\n",
       "      <td>9</td>\n",
       "      <td>Never-married</td>\n",
       "      <td>Adm-clerical</td>\n",
       "      <td>Own-child</td>\n",
       "      <td>White</td>\n",
       "      <td>Male</td>\n",
       "      <td>0</td>\n",
       "      <td>0</td>\n",
       "      <td>20</td>\n",
       "      <td>United-States</td>\n",
       "      <td>&lt;=50K</td>\n",
       "    </tr>\n",
       "    <tr>\n",
       "      <th>32560</th>\n",
       "      <td>52</td>\n",
       "      <td>Self-emp-inc</td>\n",
       "      <td>287927</td>\n",
       "      <td>HS-grad</td>\n",
       "      <td>9</td>\n",
       "      <td>Married-civ-spouse</td>\n",
       "      <td>Exec-managerial</td>\n",
       "      <td>Wife</td>\n",
       "      <td>White</td>\n",
       "      <td>Female</td>\n",
       "      <td>15024</td>\n",
       "      <td>0</td>\n",
       "      <td>40</td>\n",
       "      <td>United-States</td>\n",
       "      <td>&gt;50K</td>\n",
       "    </tr>\n",
       "  </tbody>\n",
       "</table>\n",
       "<p>32561 rows × 15 columns</p>\n",
       "</div>"
      ],
      "text/plain": [
       "       age          workclass  fnlwgt    education  education_num  \\\n",
       "0       39          State-gov   77516    Bachelors             13   \n",
       "1       50   Self-emp-not-inc   83311    Bachelors             13   \n",
       "2       38            Private  215646      HS-grad              9   \n",
       "3       53            Private  234721         11th              7   \n",
       "4       28            Private  338409    Bachelors             13   \n",
       "...    ...                ...     ...          ...            ...   \n",
       "32556   27            Private  257302   Assoc-acdm             12   \n",
       "32557   40            Private  154374      HS-grad              9   \n",
       "32558   58            Private  151910      HS-grad              9   \n",
       "32559   22            Private  201490      HS-grad              9   \n",
       "32560   52       Self-emp-inc  287927      HS-grad              9   \n",
       "\n",
       "            marital_status          occupation    relationship    race  \\\n",
       "0            Never-married        Adm-clerical   Not-in-family   White   \n",
       "1       Married-civ-spouse     Exec-managerial         Husband   White   \n",
       "2                 Divorced   Handlers-cleaners   Not-in-family   White   \n",
       "3       Married-civ-spouse   Handlers-cleaners         Husband   Black   \n",
       "4       Married-civ-spouse      Prof-specialty            Wife   Black   \n",
       "...                    ...                 ...             ...     ...   \n",
       "32556   Married-civ-spouse        Tech-support            Wife   White   \n",
       "32557   Married-civ-spouse   Machine-op-inspct         Husband   White   \n",
       "32558              Widowed        Adm-clerical       Unmarried   White   \n",
       "32559        Never-married        Adm-clerical       Own-child   White   \n",
       "32560   Married-civ-spouse     Exec-managerial            Wife   White   \n",
       "\n",
       "           sex  capital_gain  capital_loss  hours_per_week  native_country  \\\n",
       "0         Male          2174             0              40   United-States   \n",
       "1         Male             0             0              13   United-States   \n",
       "2         Male             0             0              40   United-States   \n",
       "3         Male             0             0              40   United-States   \n",
       "4       Female             0             0              40            Cuba   \n",
       "...        ...           ...           ...             ...             ...   \n",
       "32556   Female             0             0              38   United-States   \n",
       "32557     Male             0             0              40   United-States   \n",
       "32558   Female             0             0              40   United-States   \n",
       "32559     Male             0             0              20   United-States   \n",
       "32560   Female         15024             0              40   United-States   \n",
       "\n",
       "      more_or_less_50  \n",
       "0               <=50K  \n",
       "1               <=50K  \n",
       "2               <=50K  \n",
       "3               <=50K  \n",
       "4               <=50K  \n",
       "...               ...  \n",
       "32556           <=50K  \n",
       "32557            >50K  \n",
       "32558           <=50K  \n",
       "32559           <=50K  \n",
       "32560            >50K  \n",
       "\n",
       "[32561 rows x 15 columns]"
      ]
     },
     "execution_count": 63,
     "metadata": {},
     "output_type": "execute_result"
    }
   ],
   "source": [
    "df"
   ]
  },
  {
   "cell_type": "code",
   "execution_count": 69,
   "id": "spare-warrior",
   "metadata": {},
   "outputs": [],
   "source": [
    "df.loc[df.age < 40, \"age_category\"] = 0\n",
    "df.loc[df.age >= 40, \"age_category\"] = 1"
   ]
  },
  {
   "cell_type": "markdown",
   "id": "dedicated-harvard",
   "metadata": {},
   "source": [
    "#### Age\n",
    "| Age values | Category     |\n",
    "| ---------- | ------------ |\n",
    "| 0-39       | 0 (Under 40) |\n",
    "| 40+        | 1 (Over 40)  |\n"
   ]
  },
  {
   "cell_type": "code",
   "execution_count": 65,
   "id": "opening-elder",
   "metadata": {},
   "outputs": [],
   "source": [
    "for value, category in [\n",
    "    (\" Married-civ-spouse\", 0 ),\n",
    "    (\" Married-AF-spouse\", 1),\n",
    "    (\" Widowed\", 1),\n",
    "    (\" Separated\", 1),\n",
    "    (\" Divorced\", 1),\n",
    "    (\" Married-spouse-absent\", 1),\n",
    "    (\" Never-married\", 1)]:\n",
    "    df.loc[df.marital_status == value, 'marital_category'] = category"
   ]
  },
  {
   "cell_type": "markdown",
   "id": "normal-james",
   "metadata": {},
   "source": [
    "#### Marital status\n",
    "| Marital status value  | Category |\n",
    "| --------------------- | -------- |\n",
    "| Married-civ-spouse    | 0 (Spouse present) |\n",
    "| Divorced              | 1   (Spouse absent)      |\n",
    "| Never-married        | 1   (Spouse absent)      |\n",
    "| Separated            | 1   (Spouse absent)      |\n",
    "| Widowed              | 1   (Spouse absent)      |\n",
    "| Married-spouse-absent | 1   (Spouse absent)      |\n",
    "| Married-AF-spouse | 1   (Spouse absent)      |"
   ]
  },
  {
   "cell_type": "code",
   "execution_count": 109,
   "id": "younger-hammer",
   "metadata": {},
   "outputs": [],
   "source": [
    "for value, category in [\n",
    "    (\" White\", 0 ),\n",
    "    (\" Asian-Pac-Islander\", 1),\n",
    "    (\" Amer-Indian-Eskimo\", 1),\n",
    "    (\" Other\", 1),\n",
    "    (\" Black\", 1),]:\n",
    "    df.loc[df.race == value, 'race_category'] = category"
   ]
  },
  {
   "cell_type": "markdown",
   "id": "wrapped-alexander",
   "metadata": {},
   "source": [
    "#### Race\n",
    "| Race value         | Category |\n",
    "| ------------------ | -------- |\n",
    "| White              | 0 (White)       |\n",
    "| Asian-Pac-Islander | 1 (Not white)       |\n",
    "| Amer-Indian-Eskimo | 1 (Not white)       |\n",
    "| Other              | 1  (Not white)      |\n",
    "| Black              | 1  (Not white)      |"
   ]
  },
  {
   "cell_type": "code",
   "execution_count": 68,
   "id": "assured-persian",
   "metadata": {},
   "outputs": [],
   "source": [
    "df.loc[df.sex == \" Male\", \"sex_category\"] = 0\n",
    "df.loc[df.sex == \" Female\", \"sex_category\"] = 1"
   ]
  },
  {
   "cell_type": "markdown",
   "id": "latin-release",
   "metadata": {},
   "source": [
    "#### Sex\n",
    "| Sex value    | Category |\n",
    "| ------ | ----------- |\n",
    "| Male   | 0  (Male)      |\n",
    "| Female | 1   (Female)   |"
   ]
  },
  {
   "cell_type": "code",
   "execution_count": 70,
   "id": "equipped-mills",
   "metadata": {},
   "outputs": [],
   "source": [
    "df.loc[df.native_country == \" United-States\", \"country_category\"] = 0\n",
    "df.loc[df.native_country != \" United-States\", \"country_category\"] = 1"
   ]
  },
  {
   "cell_type": "markdown",
   "id": "changed-irish",
   "metadata": {},
   "source": [
    "#### Native country\n",
    "| Native Country | Category |\n",
    "| -------------- | ----------- |\n",
    "| United-States  | 0 (US) |\n",
    "| Canada, Outlying-US(Guam-USVI-etc), Jamaica , Mexico,  Dominican-Republic, Haiti, England, Germany, Greece, Italy, Poland, Portugal, Ireland, France, Hungary, Scotland, Yugoslavia, Holand-Netherlands, Puerto-Rico, Honduras, Guatemala, Nicaragua, El-Salvador, Ecuador, Columbia, Trinadad&Tobago, Peru, Cambodia, India, Japan, China, Philippines, Vietnam, Laos, Taiwan, Thailand, Hong, Iran, South | 1 (Other)        |"
   ]
  },
  {
   "cell_type": "code",
   "execution_count": 73,
   "id": "instant-stopping",
   "metadata": {},
   "outputs": [],
   "source": [
    "for value, category in [\n",
    "    (' Bachelors', 0),\n",
    "    (' HS-grad', 0),\n",
    "    (' Masters', 0),\n",
    "    (' Some-college', 0),\n",
    "    (' Assoc-acdm', 0),\n",
    "    (' Assoc-voc', 0),\n",
    "    (' Doctorate', 0),\n",
    "    (' Prof-school', 0),\n",
    "    (' 11th', 1),\n",
    "    (' 9th', 1),\n",
    "    (' 7th-8th', 1),\n",
    "    (' 5th-6th', 1),\n",
    "    (' 10th', 1),\n",
    "    (' 1st-4th', 1),\n",
    "    (' Preschool', 1),\n",
    "    (' 12th', 1),]:\n",
    "    df.loc[df.education == value, 'education_category'] = category"
   ]
  },
  {
   "cell_type": "markdown",
   "id": "criminal-religious",
   "metadata": {},
   "source": [
    "#### Education\n",
    "| Education                                                                                | Category                         |\n",
    "| ---------------------------------------------------------------------------------------- | -------------------------------- |\n",
    "| Bachelors, Some-college, HS-grad, Prof-school, Assoc-acdm, Assoc-voc, Masters, Doctorate | Graduates High School (0)        |\n",
    "| 11th, 9th, 7th-8th, 12th, 1st-4th, 10th, 5th-6th, Preschool                              | Doesn't Graduate High School (1) |"
   ]
  },
  {
   "cell_type": "code",
   "execution_count": 82,
   "id": "incredible-strength",
   "metadata": {},
   "outputs": [],
   "source": [
    "for value, category in [\n",
    "    (' Adm-clerical', 0),\n",
    "    (' Exec-managerial', 0),\n",
    "    (' Prof-specialty', 0),\n",
    "    (' Sales', 0),\n",
    "    (' Tech-support', 0),\n",
    "    (' Handlers-cleaners', 1),\n",
    "    (' Other-service', 1),\n",
    "    (' Craft-repair', 1),\n",
    "    (' Transport-moving', 1),\n",
    "    (' Farming-fishing', 1),\n",
    "    (' Machine-op-inspct', 1),\n",
    "    (' ?', 1),\n",
    "    (' Protective-serv', 1),\n",
    "    (' Armed-Forces', 1),\n",
    "    (' Priv-house-serv', 1),]:\n",
    "    df.loc[df.occupation == value, 'job_category'] = category"
   ]
  },
  {
   "cell_type": "markdown",
   "id": "divine-meter",
   "metadata": {},
   "source": [
    "#### Job Category\n",
    "| Occupation    | Category |\n",
    "| ------ | ----------- |\n",
    "| Craft-repair, Other-service, Handlers-cleaners, Machine-op-inspct, Farming-fishing, Transport-moving, Priv-house-serv, Protective-serv, Armed-Forces | Blue Collar (0) |\n",
    "| Tech-support, Sales, Exec-managerial, Prof-specialty, Adm-clerical | White Collar (1) |"
   ]
  },
  {
   "cell_type": "code",
   "execution_count": 76,
   "id": "stopped-graduate",
   "metadata": {},
   "outputs": [
    {
     "data": {
      "text/html": [
       "<div>\n",
       "<style scoped>\n",
       "    .dataframe tbody tr th:only-of-type {\n",
       "        vertical-align: middle;\n",
       "    }\n",
       "\n",
       "    .dataframe tbody tr th {\n",
       "        vertical-align: top;\n",
       "    }\n",
       "\n",
       "    .dataframe thead th {\n",
       "        text-align: right;\n",
       "    }\n",
       "</style>\n",
       "<table border=\"1\" class=\"dataframe\">\n",
       "  <thead>\n",
       "    <tr style=\"text-align: right;\">\n",
       "      <th></th>\n",
       "      <th>age_category</th>\n",
       "      <th>education_category</th>\n",
       "      <th>counts</th>\n",
       "    </tr>\n",
       "  </thead>\n",
       "  <tbody>\n",
       "    <tr>\n",
       "      <th>0</th>\n",
       "      <td>0.0</td>\n",
       "      <td>0.0</td>\n",
       "      <td>15926</td>\n",
       "    </tr>\n",
       "    <tr>\n",
       "      <th>1</th>\n",
       "      <td>0.0</td>\n",
       "      <td>1.0</td>\n",
       "      <td>2398</td>\n",
       "    </tr>\n",
       "    <tr>\n",
       "      <th>2</th>\n",
       "      <td>1.0</td>\n",
       "      <td>0.0</td>\n",
       "      <td>12382</td>\n",
       "    </tr>\n",
       "    <tr>\n",
       "      <th>3</th>\n",
       "      <td>1.0</td>\n",
       "      <td>1.0</td>\n",
       "      <td>1855</td>\n",
       "    </tr>\n",
       "  </tbody>\n",
       "</table>\n",
       "</div>"
      ],
      "text/plain": [
       "   age_category  education_category  counts\n",
       "0           0.0                 0.0   15926\n",
       "1           0.0                 1.0    2398\n",
       "2           1.0                 0.0   12382\n",
       "3           1.0                 1.0    1855"
      ]
     },
     "execution_count": 76,
     "metadata": {},
     "output_type": "execute_result"
    }
   ],
   "source": [
    "age_education = df.groupby(['age_category', 'education_category']).size()\n",
    "age_education.reset_index(name='counts')"
   ]
  },
  {
   "cell_type": "code",
   "execution_count": 77,
   "id": "anonymous-lexington",
   "metadata": {},
   "outputs": [
    {
     "data": {
      "text/html": [
       "<div>\n",
       "<style scoped>\n",
       "    .dataframe tbody tr th:only-of-type {\n",
       "        vertical-align: middle;\n",
       "    }\n",
       "\n",
       "    .dataframe tbody tr th {\n",
       "        vertical-align: top;\n",
       "    }\n",
       "\n",
       "    .dataframe thead th {\n",
       "        text-align: right;\n",
       "    }\n",
       "</style>\n",
       "<table border=\"1\" class=\"dataframe\">\n",
       "  <thead>\n",
       "    <tr style=\"text-align: right;\">\n",
       "      <th></th>\n",
       "      <th>marital_category</th>\n",
       "      <th>education_category</th>\n",
       "      <th>counts</th>\n",
       "    </tr>\n",
       "  </thead>\n",
       "  <tbody>\n",
       "    <tr>\n",
       "      <th>0</th>\n",
       "      <td>0.0</td>\n",
       "      <td>0.0</td>\n",
       "      <td>13281</td>\n",
       "    </tr>\n",
       "    <tr>\n",
       "      <th>1</th>\n",
       "      <td>0.0</td>\n",
       "      <td>1.0</td>\n",
       "      <td>1695</td>\n",
       "    </tr>\n",
       "    <tr>\n",
       "      <th>2</th>\n",
       "      <td>1.0</td>\n",
       "      <td>0.0</td>\n",
       "      <td>15027</td>\n",
       "    </tr>\n",
       "    <tr>\n",
       "      <th>3</th>\n",
       "      <td>1.0</td>\n",
       "      <td>1.0</td>\n",
       "      <td>2558</td>\n",
       "    </tr>\n",
       "  </tbody>\n",
       "</table>\n",
       "</div>"
      ],
      "text/plain": [
       "   marital_category  education_category  counts\n",
       "0               0.0                 0.0   13281\n",
       "1               0.0                 1.0    1695\n",
       "2               1.0                 0.0   15027\n",
       "3               1.0                 1.0    2558"
      ]
     },
     "execution_count": 77,
     "metadata": {},
     "output_type": "execute_result"
    }
   ],
   "source": [
    "marital_education = df.groupby(['marital_category', 'education_category']).size()\n",
    "marital_education.reset_index(name='counts')"
   ]
  },
  {
   "cell_type": "code",
   "execution_count": 78,
   "id": "manufactured-touch",
   "metadata": {},
   "outputs": [
    {
     "data": {
      "text/html": [
       "<div>\n",
       "<style scoped>\n",
       "    .dataframe tbody tr th:only-of-type {\n",
       "        vertical-align: middle;\n",
       "    }\n",
       "\n",
       "    .dataframe tbody tr th {\n",
       "        vertical-align: top;\n",
       "    }\n",
       "\n",
       "    .dataframe thead th {\n",
       "        text-align: right;\n",
       "    }\n",
       "</style>\n",
       "<table border=\"1\" class=\"dataframe\">\n",
       "  <thead>\n",
       "    <tr style=\"text-align: right;\">\n",
       "      <th></th>\n",
       "      <th>race_category</th>\n",
       "      <th>education_category</th>\n",
       "      <th>counts</th>\n",
       "    </tr>\n",
       "  </thead>\n",
       "  <tbody>\n",
       "    <tr>\n",
       "      <th>0</th>\n",
       "      <td>0.0</td>\n",
       "      <td>0.0</td>\n",
       "      <td>24335</td>\n",
       "    </tr>\n",
       "    <tr>\n",
       "      <th>1</th>\n",
       "      <td>0.0</td>\n",
       "      <td>1.0</td>\n",
       "      <td>3481</td>\n",
       "    </tr>\n",
       "    <tr>\n",
       "      <th>2</th>\n",
       "      <td>1.0</td>\n",
       "      <td>0.0</td>\n",
       "      <td>3717</td>\n",
       "    </tr>\n",
       "    <tr>\n",
       "      <th>3</th>\n",
       "      <td>1.0</td>\n",
       "      <td>1.0</td>\n",
       "      <td>717</td>\n",
       "    </tr>\n",
       "  </tbody>\n",
       "</table>\n",
       "</div>"
      ],
      "text/plain": [
       "   race_category  education_category  counts\n",
       "0            0.0                 0.0   24335\n",
       "1            0.0                 1.0    3481\n",
       "2            1.0                 0.0    3717\n",
       "3            1.0                 1.0     717"
      ]
     },
     "execution_count": 78,
     "metadata": {},
     "output_type": "execute_result"
    }
   ],
   "source": [
    "race_education = df.groupby(['race_category', 'education_category']).size()\n",
    "race_education.reset_index(name='counts')"
   ]
  },
  {
   "cell_type": "code",
   "execution_count": 79,
   "id": "molecular-covering",
   "metadata": {},
   "outputs": [
    {
     "data": {
      "text/html": [
       "<div>\n",
       "<style scoped>\n",
       "    .dataframe tbody tr th:only-of-type {\n",
       "        vertical-align: middle;\n",
       "    }\n",
       "\n",
       "    .dataframe tbody tr th {\n",
       "        vertical-align: top;\n",
       "    }\n",
       "\n",
       "    .dataframe thead th {\n",
       "        text-align: right;\n",
       "    }\n",
       "</style>\n",
       "<table border=\"1\" class=\"dataframe\">\n",
       "  <thead>\n",
       "    <tr style=\"text-align: right;\">\n",
       "      <th></th>\n",
       "      <th>sex_category</th>\n",
       "      <th>education_category</th>\n",
       "      <th>counts</th>\n",
       "    </tr>\n",
       "  </thead>\n",
       "  <tbody>\n",
       "    <tr>\n",
       "      <th>0</th>\n",
       "      <td>0.0</td>\n",
       "      <td>0.0</td>\n",
       "      <td>18858</td>\n",
       "    </tr>\n",
       "    <tr>\n",
       "      <th>1</th>\n",
       "      <td>0.0</td>\n",
       "      <td>1.0</td>\n",
       "      <td>2932</td>\n",
       "    </tr>\n",
       "    <tr>\n",
       "      <th>2</th>\n",
       "      <td>1.0</td>\n",
       "      <td>0.0</td>\n",
       "      <td>9450</td>\n",
       "    </tr>\n",
       "    <tr>\n",
       "      <th>3</th>\n",
       "      <td>1.0</td>\n",
       "      <td>1.0</td>\n",
       "      <td>1321</td>\n",
       "    </tr>\n",
       "  </tbody>\n",
       "</table>\n",
       "</div>"
      ],
      "text/plain": [
       "   sex_category  education_category  counts\n",
       "0           0.0                 0.0   18858\n",
       "1           0.0                 1.0    2932\n",
       "2           1.0                 0.0    9450\n",
       "3           1.0                 1.0    1321"
      ]
     },
     "execution_count": 79,
     "metadata": {},
     "output_type": "execute_result"
    }
   ],
   "source": [
    "sex_education = df.groupby(['sex_category', 'education_category']).size()\n",
    "sex_education.reset_index(name='counts')"
   ]
  },
  {
   "cell_type": "code",
   "execution_count": 80,
   "id": "humanitarian-interaction",
   "metadata": {},
   "outputs": [
    {
     "data": {
      "text/html": [
       "<div>\n",
       "<style scoped>\n",
       "    .dataframe tbody tr th:only-of-type {\n",
       "        vertical-align: middle;\n",
       "    }\n",
       "\n",
       "    .dataframe tbody tr th {\n",
       "        vertical-align: top;\n",
       "    }\n",
       "\n",
       "    .dataframe thead th {\n",
       "        text-align: right;\n",
       "    }\n",
       "</style>\n",
       "<table border=\"1\" class=\"dataframe\">\n",
       "  <thead>\n",
       "    <tr style=\"text-align: right;\">\n",
       "      <th></th>\n",
       "      <th>country_category</th>\n",
       "      <th>education_category</th>\n",
       "      <th>counts</th>\n",
       "    </tr>\n",
       "  </thead>\n",
       "  <tbody>\n",
       "    <tr>\n",
       "      <th>0</th>\n",
       "      <td>0.0</td>\n",
       "      <td>0.0</td>\n",
       "      <td>25836</td>\n",
       "    </tr>\n",
       "    <tr>\n",
       "      <th>1</th>\n",
       "      <td>0.0</td>\n",
       "      <td>1.0</td>\n",
       "      <td>3334</td>\n",
       "    </tr>\n",
       "    <tr>\n",
       "      <th>2</th>\n",
       "      <td>1.0</td>\n",
       "      <td>0.0</td>\n",
       "      <td>2472</td>\n",
       "    </tr>\n",
       "    <tr>\n",
       "      <th>3</th>\n",
       "      <td>1.0</td>\n",
       "      <td>1.0</td>\n",
       "      <td>919</td>\n",
       "    </tr>\n",
       "  </tbody>\n",
       "</table>\n",
       "</div>"
      ],
      "text/plain": [
       "   country_category  education_category  counts\n",
       "0               0.0                 0.0   25836\n",
       "1               0.0                 1.0    3334\n",
       "2               1.0                 0.0    2472\n",
       "3               1.0                 1.0     919"
      ]
     },
     "execution_count": 80,
     "metadata": {},
     "output_type": "execute_result"
    }
   ],
   "source": [
    "country_education = df.groupby(['country_category', 'education_category']).size()\n",
    "country_education.reset_index(name='counts')"
   ]
  },
  {
   "cell_type": "code",
   "execution_count": 83,
   "id": "proprietary-cooling",
   "metadata": {},
   "outputs": [
    {
     "data": {
      "text/html": [
       "<div>\n",
       "<style scoped>\n",
       "    .dataframe tbody tr th:only-of-type {\n",
       "        vertical-align: middle;\n",
       "    }\n",
       "\n",
       "    .dataframe tbody tr th {\n",
       "        vertical-align: top;\n",
       "    }\n",
       "\n",
       "    .dataframe thead th {\n",
       "        text-align: right;\n",
       "    }\n",
       "</style>\n",
       "<table border=\"1\" class=\"dataframe\">\n",
       "  <thead>\n",
       "    <tr style=\"text-align: right;\">\n",
       "      <th></th>\n",
       "      <th>age_category</th>\n",
       "      <th>job_category</th>\n",
       "      <th>counts</th>\n",
       "    </tr>\n",
       "  </thead>\n",
       "  <tbody>\n",
       "    <tr>\n",
       "      <th>0</th>\n",
       "      <td>0.0</td>\n",
       "      <td>0.0</td>\n",
       "      <td>8838</td>\n",
       "    </tr>\n",
       "    <tr>\n",
       "      <th>1</th>\n",
       "      <td>0.0</td>\n",
       "      <td>1.0</td>\n",
       "      <td>9486</td>\n",
       "    </tr>\n",
       "    <tr>\n",
       "      <th>2</th>\n",
       "      <td>1.0</td>\n",
       "      <td>0.0</td>\n",
       "      <td>7716</td>\n",
       "    </tr>\n",
       "    <tr>\n",
       "      <th>3</th>\n",
       "      <td>1.0</td>\n",
       "      <td>1.0</td>\n",
       "      <td>6521</td>\n",
       "    </tr>\n",
       "  </tbody>\n",
       "</table>\n",
       "</div>"
      ],
      "text/plain": [
       "   age_category  job_category  counts\n",
       "0           0.0           0.0    8838\n",
       "1           0.0           1.0    9486\n",
       "2           1.0           0.0    7716\n",
       "3           1.0           1.0    6521"
      ]
     },
     "execution_count": 83,
     "metadata": {},
     "output_type": "execute_result"
    }
   ],
   "source": [
    "age_job = df.groupby(['age_category', 'job_category']).size()\n",
    "age_job.reset_index(name='counts')"
   ]
  },
  {
   "cell_type": "code",
   "execution_count": 84,
   "id": "illegal-nevada",
   "metadata": {},
   "outputs": [
    {
     "data": {
      "text/html": [
       "<div>\n",
       "<style scoped>\n",
       "    .dataframe tbody tr th:only-of-type {\n",
       "        vertical-align: middle;\n",
       "    }\n",
       "\n",
       "    .dataframe tbody tr th {\n",
       "        vertical-align: top;\n",
       "    }\n",
       "\n",
       "    .dataframe thead th {\n",
       "        text-align: right;\n",
       "    }\n",
       "</style>\n",
       "<table border=\"1\" class=\"dataframe\">\n",
       "  <thead>\n",
       "    <tr style=\"text-align: right;\">\n",
       "      <th></th>\n",
       "      <th>marital_category</th>\n",
       "      <th>job_category</th>\n",
       "      <th>counts</th>\n",
       "    </tr>\n",
       "  </thead>\n",
       "  <tbody>\n",
       "    <tr>\n",
       "      <th>0</th>\n",
       "      <td>0.0</td>\n",
       "      <td>0.0</td>\n",
       "      <td>7623</td>\n",
       "    </tr>\n",
       "    <tr>\n",
       "      <th>1</th>\n",
       "      <td>0.0</td>\n",
       "      <td>1.0</td>\n",
       "      <td>7353</td>\n",
       "    </tr>\n",
       "    <tr>\n",
       "      <th>2</th>\n",
       "      <td>1.0</td>\n",
       "      <td>0.0</td>\n",
       "      <td>8931</td>\n",
       "    </tr>\n",
       "    <tr>\n",
       "      <th>3</th>\n",
       "      <td>1.0</td>\n",
       "      <td>1.0</td>\n",
       "      <td>8654</td>\n",
       "    </tr>\n",
       "  </tbody>\n",
       "</table>\n",
       "</div>"
      ],
      "text/plain": [
       "   marital_category  job_category  counts\n",
       "0               0.0           0.0    7623\n",
       "1               0.0           1.0    7353\n",
       "2               1.0           0.0    8931\n",
       "3               1.0           1.0    8654"
      ]
     },
     "execution_count": 84,
     "metadata": {},
     "output_type": "execute_result"
    }
   ],
   "source": [
    "marital_job = df.groupby(['marital_category', 'job_category']).size()\n",
    "marital_job.reset_index(name='counts')"
   ]
  },
  {
   "cell_type": "code",
   "execution_count": 110,
   "id": "freelance-engineer",
   "metadata": {},
   "outputs": [
    {
     "data": {
      "text/html": [
       "<div>\n",
       "<style scoped>\n",
       "    .dataframe tbody tr th:only-of-type {\n",
       "        vertical-align: middle;\n",
       "    }\n",
       "\n",
       "    .dataframe tbody tr th {\n",
       "        vertical-align: top;\n",
       "    }\n",
       "\n",
       "    .dataframe thead th {\n",
       "        text-align: right;\n",
       "    }\n",
       "</style>\n",
       "<table border=\"1\" class=\"dataframe\">\n",
       "  <thead>\n",
       "    <tr style=\"text-align: right;\">\n",
       "      <th></th>\n",
       "      <th>race_category</th>\n",
       "      <th>job_category</th>\n",
       "      <th>counts</th>\n",
       "    </tr>\n",
       "  </thead>\n",
       "  <tbody>\n",
       "    <tr>\n",
       "      <th>0</th>\n",
       "      <td>0.0</td>\n",
       "      <td>0.0</td>\n",
       "      <td>14424</td>\n",
       "    </tr>\n",
       "    <tr>\n",
       "      <th>1</th>\n",
       "      <td>0.0</td>\n",
       "      <td>1.0</td>\n",
       "      <td>13392</td>\n",
       "    </tr>\n",
       "    <tr>\n",
       "      <th>2</th>\n",
       "      <td>1.0</td>\n",
       "      <td>0.0</td>\n",
       "      <td>2130</td>\n",
       "    </tr>\n",
       "    <tr>\n",
       "      <th>3</th>\n",
       "      <td>1.0</td>\n",
       "      <td>1.0</td>\n",
       "      <td>2615</td>\n",
       "    </tr>\n",
       "  </tbody>\n",
       "</table>\n",
       "</div>"
      ],
      "text/plain": [
       "   race_category  job_category  counts\n",
       "0            0.0           0.0   14424\n",
       "1            0.0           1.0   13392\n",
       "2            1.0           0.0    2130\n",
       "3            1.0           1.0    2615"
      ]
     },
     "execution_count": 110,
     "metadata": {},
     "output_type": "execute_result"
    }
   ],
   "source": [
    "race_job = df.groupby(['race_category', 'job_category']).size()\n",
    "race_job.reset_index(name='counts')"
   ]
  },
  {
   "cell_type": "code",
   "execution_count": 86,
   "id": "fiscal-franchise",
   "metadata": {},
   "outputs": [
    {
     "data": {
      "text/html": [
       "<div>\n",
       "<style scoped>\n",
       "    .dataframe tbody tr th:only-of-type {\n",
       "        vertical-align: middle;\n",
       "    }\n",
       "\n",
       "    .dataframe tbody tr th {\n",
       "        vertical-align: top;\n",
       "    }\n",
       "\n",
       "    .dataframe thead th {\n",
       "        text-align: right;\n",
       "    }\n",
       "</style>\n",
       "<table border=\"1\" class=\"dataframe\">\n",
       "  <thead>\n",
       "    <tr style=\"text-align: right;\">\n",
       "      <th></th>\n",
       "      <th>sex_category</th>\n",
       "      <th>job_category</th>\n",
       "      <th>counts</th>\n",
       "    </tr>\n",
       "  </thead>\n",
       "  <tbody>\n",
       "    <tr>\n",
       "      <th>0</th>\n",
       "      <td>0.0</td>\n",
       "      <td>0.0</td>\n",
       "      <td>9732</td>\n",
       "    </tr>\n",
       "    <tr>\n",
       "      <th>1</th>\n",
       "      <td>0.0</td>\n",
       "      <td>1.0</td>\n",
       "      <td>12058</td>\n",
       "    </tr>\n",
       "    <tr>\n",
       "      <th>2</th>\n",
       "      <td>1.0</td>\n",
       "      <td>0.0</td>\n",
       "      <td>6822</td>\n",
       "    </tr>\n",
       "    <tr>\n",
       "      <th>3</th>\n",
       "      <td>1.0</td>\n",
       "      <td>1.0</td>\n",
       "      <td>3949</td>\n",
       "    </tr>\n",
       "  </tbody>\n",
       "</table>\n",
       "</div>"
      ],
      "text/plain": [
       "   sex_category  job_category  counts\n",
       "0           0.0           0.0    9732\n",
       "1           0.0           1.0   12058\n",
       "2           1.0           0.0    6822\n",
       "3           1.0           1.0    3949"
      ]
     },
     "execution_count": 86,
     "metadata": {},
     "output_type": "execute_result"
    }
   ],
   "source": [
    "sex_job = df.groupby(['sex_category', 'job_category']).size()\n",
    "sex_job.reset_index(name='counts')"
   ]
  },
  {
   "cell_type": "code",
   "execution_count": 87,
   "id": "loose-angle",
   "metadata": {},
   "outputs": [
    {
     "data": {
      "text/html": [
       "<div>\n",
       "<style scoped>\n",
       "    .dataframe tbody tr th:only-of-type {\n",
       "        vertical-align: middle;\n",
       "    }\n",
       "\n",
       "    .dataframe tbody tr th {\n",
       "        vertical-align: top;\n",
       "    }\n",
       "\n",
       "    .dataframe thead th {\n",
       "        text-align: right;\n",
       "    }\n",
       "</style>\n",
       "<table border=\"1\" class=\"dataframe\">\n",
       "  <thead>\n",
       "    <tr style=\"text-align: right;\">\n",
       "      <th></th>\n",
       "      <th>country_category</th>\n",
       "      <th>job_category</th>\n",
       "      <th>counts</th>\n",
       "    </tr>\n",
       "  </thead>\n",
       "  <tbody>\n",
       "    <tr>\n",
       "      <th>0</th>\n",
       "      <td>0.0</td>\n",
       "      <td>0.0</td>\n",
       "      <td>15091</td>\n",
       "    </tr>\n",
       "    <tr>\n",
       "      <th>1</th>\n",
       "      <td>0.0</td>\n",
       "      <td>1.0</td>\n",
       "      <td>14079</td>\n",
       "    </tr>\n",
       "    <tr>\n",
       "      <th>2</th>\n",
       "      <td>1.0</td>\n",
       "      <td>0.0</td>\n",
       "      <td>1463</td>\n",
       "    </tr>\n",
       "    <tr>\n",
       "      <th>3</th>\n",
       "      <td>1.0</td>\n",
       "      <td>1.0</td>\n",
       "      <td>1928</td>\n",
       "    </tr>\n",
       "  </tbody>\n",
       "</table>\n",
       "</div>"
      ],
      "text/plain": [
       "   country_category  job_category  counts\n",
       "0               0.0           0.0   15091\n",
       "1               0.0           1.0   14079\n",
       "2               1.0           0.0    1463\n",
       "3               1.0           1.0    1928"
      ]
     },
     "execution_count": 87,
     "metadata": {},
     "output_type": "execute_result"
    }
   ],
   "source": [
    "country_job = df.groupby(['country_category', 'job_category']).size()\n",
    "country_job.reset_index(name='counts')"
   ]
  },
  {
   "cell_type": "code",
   "execution_count": 88,
   "id": "daily-public",
   "metadata": {},
   "outputs": [
    {
     "data": {
      "text/plain": [
       "<matplotlib.axes._subplots.AxesSubplot at 0x7f3a0524ac90>"
      ]
     },
     "execution_count": 88,
     "metadata": {},
     "output_type": "execute_result"
    },
    {
     "data": {
      "image/png": "[encoded data removed]",
      "text/plain": [
       "<Figure size 432x288 with 1 Axes>"
      ]
     },
     "metadata": {
      "needs_background": "light"
     },
     "output_type": "display_data"
    }
   ],
   "source": [
    "age_education.unstack().plot(kind=\"bar\")"
   ]
  },
  {
   "cell_type": "code",
   "execution_count": 89,
   "id": "instrumental-territory",
   "metadata": {},
   "outputs": [
    {
     "data": {
      "text/plain": [
       "<matplotlib.axes._subplots.AxesSubplot at 0x7f3a04e0e510>"
      ]
     },
     "execution_count": 89,
     "metadata": {},
     "output_type": "execute_result"
    },
    {
     "data": {
      "image/png": "[encoded data removed]",
      "text/plain": [
       "<Figure size 432x288 with 1 Axes>"
      ]
     },
     "metadata": {
      "needs_background": "light"
     },
     "output_type": "display_data"
    }
   ],
   "source": [
    "marital_education.unstack().plot(kind=\"bar\")"
   ]
  },
  {
   "cell_type": "code",
   "execution_count": 90,
   "id": "spiritual-surgery",
   "metadata": {},
   "outputs": [
    {
     "data": {
      "text/plain": [
       "<matplotlib.axes._subplots.AxesSubplot at 0x7f3a04b78190>"
      ]
     },
     "execution_count": 90,
     "metadata": {},
     "output_type": "execute_result"
    },
    {
     "data": {
      "image/png": "[encoded data removed]",
      "text/plain": [
       "<Figure size 432x288 with 1 Axes>"
      ]
     },
     "metadata": {
      "needs_background": "light"
     },
     "output_type": "display_data"
    }
   ],
   "source": [
    "race_education.unstack().plot(kind=\"bar\")"
   ]
  },
  {
   "cell_type": "code",
   "execution_count": 91,
   "id": "capable-brooklyn",
   "metadata": {},
   "outputs": [
    {
     "data": {
      "text/plain": [
       "<matplotlib.axes._subplots.AxesSubplot at 0x7f3a04bf8b90>"
      ]
     },
     "execution_count": 91,
     "metadata": {},
     "output_type": "execute_result"
    },
    {
     "data": {
      "image/png": "[encoded data removed]",
      "text/plain": [
       "<Figure size 432x288 with 1 Axes>"
      ]
     },
     "metadata": {
      "needs_background": "light"
     },
     "output_type": "display_data"
    }
   ],
   "source": [
    "sex_education.unstack().plot(kind=\"bar\")"
   ]
  },
  {
   "cell_type": "code",
   "execution_count": 92,
   "id": "inappropriate-watts",
   "metadata": {},
   "outputs": [
    {
     "data": {
      "text/plain": [
       "<matplotlib.axes._subplots.AxesSubplot at 0x7f3a0527fa90>"
      ]
     },
     "execution_count": 92,
     "metadata": {},
     "output_type": "execute_result"
    },
    {
     "data": {
      "image/png": "[encoded data removed]",
      "text/plain": [
       "<Figure size 432x288 with 1 Axes>"
      ]
     },
     "metadata": {
      "needs_background": "light"
     },
     "output_type": "display_data"
    }
   ],
   "source": [
    "country_education.unstack().plot(kind=\"bar\")"
   ]
  },
  {
   "cell_type": "code",
   "execution_count": 93,
   "id": "limited-elements",
   "metadata": {},
   "outputs": [
    {
     "data": {
      "text/plain": [
       "<matplotlib.axes._subplots.AxesSubplot at 0x7f3a0522be90>"
      ]
     },
     "execution_count": 93,
     "metadata": {},
     "output_type": "execute_result"
    },
    {
     "data": {
      "image/png": "[encoded data removed]",
      "text/plain": [
       "<Figure size 432x288 with 1 Axes>"
      ]
     },
     "metadata": {
      "needs_background": "light"
     },
     "output_type": "display_data"
    }
   ],
   "source": [
    "age_job.unstack().plot(kind=\"bar\")"
   ]
  },
  {
   "cell_type": "code",
   "execution_count": 94,
   "id": "seeing-equipment",
   "metadata": {},
   "outputs": [
    {
     "data": {
      "text/plain": [
       "<matplotlib.axes._subplots.AxesSubplot at 0x7f3a0511f490>"
      ]
     },
     "execution_count": 94,
     "metadata": {},
     "output_type": "execute_result"
    },
    {
     "data": {
      "image/png": "[encoded data removed]",
      "text/plain": [
       "<Figure size 432x288 with 1 Axes>"
      ]
     },
     "metadata": {
      "needs_background": "light"
     },
     "output_type": "display_data"
    }
   ],
   "source": [
    "marital_job.unstack().plot(kind=\"bar\")"
   ]
  },
  {
   "cell_type": "code",
   "execution_count": 95,
   "id": "waiting-decrease",
   "metadata": {},
   "outputs": [
    {
     "data": {
      "text/plain": [
       "<matplotlib.axes._subplots.AxesSubplot at 0x7f3a05098750>"
      ]
     },
     "execution_count": 95,
     "metadata": {},
     "output_type": "execute_result"
    },
    {
     "data": {
      "image/png": "[encoded data removed]",
      "text/plain": [
       "<Figure size 432x288 with 1 Axes>"
      ]
     },
     "metadata": {
      "needs_background": "light"
     },
     "output_type": "display_data"
    }
   ],
   "source": [
    "race_job.unstack().plot(kind=\"bar\")"
   ]
  },
  {
   "cell_type": "code",
   "execution_count": 96,
   "id": "liable-comedy",
   "metadata": {},
   "outputs": [
    {
     "data": {
      "text/plain": [
       "<matplotlib.axes._subplots.AxesSubplot at 0x7f3a0500f310>"
      ]
     },
     "execution_count": 96,
     "metadata": {},
     "output_type": "execute_result"
    },
    {
     "data": {
      "image/png": "[encoded data removed]",
      "text/plain": [
       "<Figure size 432x288 with 1 Axes>"
      ]
     },
     "metadata": {
      "needs_background": "light"
     },
     "output_type": "display_data"
    }
   ],
   "source": [
    "sex_job.unstack().plot(kind=\"bar\")"
   ]
  },
  {
   "cell_type": "code",
   "execution_count": 98,
   "id": "standing-impact",
   "metadata": {},
   "outputs": [
    {
     "data": {
      "text/plain": [
       "<matplotlib.axes._subplots.AxesSubplot at 0x7f3a04794a50>"
      ]
     },
     "execution_count": 98,
     "metadata": {},
     "output_type": "execute_result"
    },
    {
     "data": {
      "image/png": "[encoded data removed]",
      "text/plain": [
       "<Figure size 432x288 with 1 Axes>"
      ]
     },
     "metadata": {
      "needs_background": "light"
     },
     "output_type": "display_data"
    }
   ],
   "source": [
    "country_job.unstack().plot(kind=\"bar\")"
   ]
  },
  {
   "cell_type": "markdown",
   "id": "whole-detective",
   "metadata": {},
   "source": [
    "### Step 3\n",
    "The privileged group for the Education variable is having a high school diploma, and the unprivileged group is not finishing high school.  \n",
    "The privileged group for the Job variable is the White-Collar group, and the unprivileged group is the Blue-Collar group."
   ]
  },
  {
   "cell_type": "markdown",
   "id": "radio-blame",
   "metadata": {},
   "source": [
    "#### Education - Age"
   ]
  },
  {
   "cell_type": "markdown",
   "id": "invisible-cursor",
   "metadata": {},
   "source": [
    "##### Fairness Metrics"
   ]
  },
  {
   "cell_type": "code",
   "execution_count": 114,
   "id": "lasting-programmer",
   "metadata": {},
   "outputs": [
    {
     "name": "stdout",
     "output_type": "stream",
     "text": [
      "Original SPD: -0.000572319432885382\n",
      "Original DI: 0.9993419389625271\n",
      "New SPD: 2.220446049250313e-16\n",
      "New DI: 1.0000000000000002\n"
     ]
    }
   ],
   "source": [
    "def run_fairness(\n",
    "    protected_category='age_category',\n",
    "    privileged_classes=[lambda x: x == 1],\n",
    "    privileged_groups=[{'age_category': 1}],\n",
    "    unprivileged_groups=[{'age_category': 0}],\n",
    "    depedent_category='education_category',\n",
    "    favorable_value=0,\n",
    "):\n",
    "    def favorable(x):\n",
    "        if x == favorable_value:\n",
    "            return True\n",
    "        else:\n",
    "            return False\n",
    "    \n",
    "    sd = StandardDataset(\n",
    "        df=df,\n",
    "        label_name=depedent_category,\n",
    "        favorable_classes=favorable,\n",
    "        protected_attribute_names=[protected_category],\n",
    "        privileged_classes=privileged_classes,\n",
    "        features_to_keep=[depedent_category, protected_category]\n",
    "    )\n",
    "    metrics = BinaryLabelDatasetMetric(\n",
    "        sd,\n",
    "        privileged_groups=privileged_groups,\n",
    "        unprivileged_groups=unprivileged_groups\n",
    "    )\n",
    "    print(\"Original SPD: {}\".format(metrics.statistical_parity_difference()))\n",
    "    print(\"Original DI: {}\".format(metrics.disparate_impact()))\n",
    "    disp_ir = Reweighing(\n",
    "        unprivileged_groups, privileged_groups,\n",
    "    ).fit_transform(sd)\n",
    "    new_metrics = BinaryLabelDatasetMetric(disp_ir, \n",
    "                                               unprivileged_groups=unprivileged_groups,\n",
    "                                               privileged_groups=privileged_groups)\n",
    "    print(\"New SPD: {}\".format(new_metrics.statistical_parity_difference()))\n",
    "    print(\"New DI: {}\".format(new_metrics.disparate_impact()))\n",
    "    \n",
    "\n",
    "\n",
    "run_fairness(\n",
    "    protected_category='age_category',\n",
    "    privileged_classes=[lambda x: x == 1],\n",
    "    privileged_groups=[{'age_category': 1}],\n",
    "    unprivileged_groups=[{'age_category': 0}],\n",
    "    depedent_category='education_category',\n",
    "    favorable_value=0)\n"
   ]
  },
  {
   "cell_type": "markdown",
   "id": "harmful-copying",
   "metadata": {},
   "source": [
    "#### Education - Marital"
   ]
  },
  {
   "cell_type": "markdown",
   "id": "detected-quebec",
   "metadata": {},
   "source": [
    "##### Fairness Metrics"
   ]
  },
  {
   "cell_type": "code",
   "execution_count": 115,
   "id": "anonymous-parameter",
   "metadata": {},
   "outputs": [
    {
     "name": "stdout",
     "output_type": "stream",
     "text": [
      "Original SPD: 0.03228379510144863\n",
      "Original DI: 1.0377793662646553\n",
      "New SPD: 2.220446049250313e-16\n",
      "New DI: 1.0000000000000002\n"
     ]
    }
   ],
   "source": [
    "run_fairness(\n",
    "    protected_category='marital_category',\n",
    "    privileged_classes=[lambda x: x == 1],\n",
    "    privileged_groups=[{'marital_category': 1}],\n",
    "    unprivileged_groups=[{'marital_category': 0}],\n",
    "    depedent_category='education_category',\n",
    "    favorable_value=0)"
   ]
  },
  {
   "cell_type": "markdown",
   "id": "polished-strap",
   "metadata": {},
   "source": [
    "#### Education - Race"
   ]
  },
  {
   "cell_type": "markdown",
   "id": "cooperative-evening",
   "metadata": {},
   "source": [
    "##### Fairness Metrics"
   ]
  },
  {
   "cell_type": "code",
   "execution_count": 116,
   "id": "bored-standard",
   "metadata": {},
   "outputs": [
    {
     "name": "stdout",
     "output_type": "stream",
     "text": [
      "Original SPD: 0.03755377426793505\n",
      "Original DI: 1.0448509083567459\n",
      "New SPD: -1.1102230246251565e-16\n",
      "New DI: 0.9999999999999999\n"
     ]
    }
   ],
   "source": [
    "run_fairness(\n",
    "    protected_category='race_category',\n",
    "    privileged_classes=[lambda x: x == 1],\n",
    "    privileged_groups=[{'race_category': 1}],\n",
    "    unprivileged_groups=[{'race_category': 0}],\n",
    "    depedent_category='education_category',\n",
    "    favorable_value=0)"
   ]
  },
  {
   "cell_type": "markdown",
   "id": "indian-speech",
   "metadata": {},
   "source": [
    "#### Education - Sex"
   ]
  },
  {
   "cell_type": "markdown",
   "id": "missing-jonathan",
   "metadata": {},
   "source": [
    "##### Fairness Metrics"
   ]
  },
  {
   "cell_type": "code",
   "execution_count": 117,
   "id": "compatible-webster",
   "metadata": {},
   "outputs": [
    {
     "name": "stdout",
     "output_type": "stream",
     "text": [
      "Original SPD: -0.011912999266425417\n",
      "Original DI: 0.986421702105961\n",
      "New SPD: 2.220446049250313e-16\n",
      "New DI: 1.0000000000000002\n"
     ]
    }
   ],
   "source": [
    "run_fairness(\n",
    "    protected_category='sex_category',\n",
    "    privileged_classes=[lambda x: x == 1],\n",
    "    privileged_groups=[{'sex_category': 1}],\n",
    "    unprivileged_groups=[{'sex_category': 0}],\n",
    "    depedent_category='education_category',\n",
    "    favorable_value=0)"
   ]
  },
  {
   "cell_type": "markdown",
   "id": "genetic-homeless",
   "metadata": {},
   "source": [
    "#### Education - Native Country"
   ]
  },
  {
   "cell_type": "markdown",
   "id": "democratic-system",
   "metadata": {},
   "source": [
    "##### Fairness Metrics"
   ]
  },
  {
   "cell_type": "code",
   "execution_count": 118,
   "id": "objective-monster",
   "metadata": {},
   "outputs": [
    {
     "name": "stdout",
     "output_type": "stream",
     "text": [
      "Original SPD: 0.15671599194746788\n",
      "Original DI: 1.2149773174327927\n",
      "New SPD: -2.220446049250313e-16\n",
      "New DI: 0.9999999999999998\n"
     ]
    }
   ],
   "source": [
    "run_fairness(\n",
    "    protected_category='country_category',\n",
    "    privileged_classes=[lambda x: x == 1],\n",
    "    privileged_groups=[{'country_category': 1}],\n",
    "    unprivileged_groups=[{'country_category': 0}],\n",
    "    depedent_category='education_category',\n",
    "    favorable_value=0)"
   ]
  },
  {
   "cell_type": "markdown",
   "id": "material-korea",
   "metadata": {},
   "source": [
    "#### Job - Age"
   ]
  },
  {
   "cell_type": "markdown",
   "id": "eastern-badge",
   "metadata": {},
   "source": [
    "##### Fairness Metrics"
   ]
  },
  {
   "cell_type": "markdown",
   "id": "coated-pound",
   "metadata": {},
   "source": [
    "##### Pre-processing Bias Mitigation"
   ]
  },
  {
   "cell_type": "markdown",
   "id": "unique-grenada",
   "metadata": {},
   "source": [
    "##### Fairness Metrics Transformed"
   ]
  },
  {
   "cell_type": "markdown",
   "id": "western-lying",
   "metadata": {},
   "source": [
    "#### Job - Marital"
   ]
  },
  {
   "cell_type": "markdown",
   "id": "wired-basis",
   "metadata": {},
   "source": [
    "##### Fairness Metrics"
   ]
  },
  {
   "cell_type": "markdown",
   "id": "english-mexico",
   "metadata": {},
   "source": [
    "##### Pre-processing Bias Mitigation"
   ]
  },
  {
   "cell_type": "markdown",
   "id": "macro-content",
   "metadata": {},
   "source": [
    "##### Fairness Metrics Transformed"
   ]
  },
  {
   "cell_type": "markdown",
   "id": "beginning-turtle",
   "metadata": {},
   "source": [
    "#### Job - Race"
   ]
  },
  {
   "cell_type": "markdown",
   "id": "attended-thailand",
   "metadata": {},
   "source": [
    "##### Fairness Metrics"
   ]
  },
  {
   "cell_type": "markdown",
   "id": "exact-lebanon",
   "metadata": {},
   "source": [
    "##### Pre-processing Bias Mitigation"
   ]
  },
  {
   "cell_type": "markdown",
   "id": "common-result",
   "metadata": {},
   "source": [
    "##### Fairness Metrics Transformed"
   ]
  },
  {
   "cell_type": "markdown",
   "id": "precise-communist",
   "metadata": {},
   "source": [
    "#### Job - Sex"
   ]
  },
  {
   "cell_type": "markdown",
   "id": "selected-environment",
   "metadata": {},
   "source": [
    "##### Fairness Metrics"
   ]
  },
  {
   "cell_type": "markdown",
   "id": "fabulous-douglas",
   "metadata": {},
   "source": [
    "##### Pre-processing Bias Mitigation"
   ]
  },
  {
   "cell_type": "markdown",
   "id": "arranged-transparency",
   "metadata": {},
   "source": [
    "##### Fairness Metrics Transformed"
   ]
  },
  {
   "cell_type": "markdown",
   "id": "valuable-pride",
   "metadata": {},
   "source": [
    "#### Job - Native Country"
   ]
  },
  {
   "cell_type": "markdown",
   "id": "derived-league",
   "metadata": {},
   "source": [
    "##### Fairness Metrics"
   ]
  },
  {
   "cell_type": "markdown",
   "id": "close-static",
   "metadata": {},
   "source": [
    "##### Pre-processing Bias Mitigation"
   ]
  },
  {
   "cell_type": "markdown",
   "id": "conscious-definition",
   "metadata": {},
   "source": [
    "##### Fairness Metrics Transformed"
   ]
  },
  {
   "cell_type": "code",
   "execution_count": null,
   "id": "compact-illness",
   "metadata": {},
   "outputs": [],
   "source": []
  },
  {
   "cell_type": "markdown",
   "id": "auburn-underground",
   "metadata": {},
   "source": [
    "### Step 4\n",
    "#### Option A?"
   ]
  },
  {
   "cell_type": "code",
   "execution_count": 119,
   "id": "opposed-external",
   "metadata": {},
   "outputs": [],
   "source": [
    "protected_category='age_category'\n",
    "privileged_classes=[lambda x: x == 1]\n",
    "privileged_groups=[{'age_category': 1}]\n",
    "unprivileged_groups=[{'age_category': 0}]\n",
    "depedent_category='education_category'\n",
    "favorable_value=0\n",
    "sd = StandardDataset(\n",
    "    df=df,\n",
    "    label_name=depedent_category,\n",
    "    favorable_classes=favorable,\n",
    "    protected_attribute_names=[protected_category],\n",
    "    privileged_classes=privileged_classes,\n",
    "    features_to_keep=[depedent_category, protected_category]\n",
    ")\n",
    "sd_rw = Reweighing(\n",
    "        unprivileged_groups, privileged_groups,\n",
    "    ).fit_transform(sd)\n",
    "\n",
    "dataset_orig_train, dataset_orig_test = sd.split([0.7], shuffle=True)\n",
    "dataset_rw_train, dataset_rw_test = sd_rw.split([0.7], shuffle=True)"
   ]
  },
  {
   "cell_type": "code",
   "execution_count": 157,
   "id": "forbidden-sullivan",
   "metadata": {},
   "outputs": [],
   "source": [
    "# Logistic regression classifier and predictions\n",
    "scale_orig = StandardScaler()\n",
    "X_train = scale_orig.fit_transform(dataset_orig_train.features)\n",
    "y_train = dataset_orig_train.labels.ravel()\n",
    "w_train = dataset_orig_train.instance_weights.ravel()\n",
    "\n",
    "lmod = LogisticRegression()\n",
    "lmod.fit(X_train, y_train, \n",
    "         sample_weight=dataset_orig_train.instance_weights)\n",
    "y_train_pred = lmod.predict(X_train)\n",
    "\n",
    "# positive class index\n",
    "pos_ind = np.where(lmod.classes_ == dataset_orig_train.favorable_label)[0][0]\n",
    "\n",
    "dataset_orig_train_pred = dataset_orig_train.copy()\n",
    "dataset_orig_train_pred.labels = y_train_pred"
   ]
  },
  {
   "cell_type": "code",
   "execution_count": 158,
   "id": "upper-tulsa",
   "metadata": {},
   "outputs": [
    {
     "ename": "ValueError",
     "evalue": "all the input arrays must have same number of dimensions, but the array at index 0 has 2 dimension(s) and the array at index 1 has 1 dimension(s)",
     "output_type": "error",
     "traceback": [
      "\u001b[0;31m---------------------------------------------------------------------------\u001b[0m",
      "\u001b[0;31mValueError\u001b[0m                                Traceback (most recent call last)",
      "\u001b[0;32m~/miniconda3/envs/aif360/lib/python3.7/site-packages/IPython/core/formatters.py\u001b[0m in \u001b[0;36m__call__\u001b[0;34m(self, obj)\u001b[0m\n\u001b[1;32m    700\u001b[0m                 \u001b[0mtype_pprinters\u001b[0m\u001b[0;34m=\u001b[0m\u001b[0mself\u001b[0m\u001b[0;34m.\u001b[0m\u001b[0mtype_printers\u001b[0m\u001b[0;34m,\u001b[0m\u001b[0;34m\u001b[0m\u001b[0;34m\u001b[0m\u001b[0m\n\u001b[1;32m    701\u001b[0m                 deferred_pprinters=self.deferred_printers)\n\u001b[0;32m--> 702\u001b[0;31m             \u001b[0mprinter\u001b[0m\u001b[0;34m.\u001b[0m\u001b[0mpretty\u001b[0m\u001b[0;34m(\u001b[0m\u001b[0mobj\u001b[0m\u001b[0;34m)\u001b[0m\u001b[0;34m\u001b[0m\u001b[0;34m\u001b[0m\u001b[0m\n\u001b[0m\u001b[1;32m    703\u001b[0m             \u001b[0mprinter\u001b[0m\u001b[0;34m.\u001b[0m\u001b[0mflush\u001b[0m\u001b[0;34m(\u001b[0m\u001b[0;34m)\u001b[0m\u001b[0;34m\u001b[0m\u001b[0;34m\u001b[0m\u001b[0m\n\u001b[1;32m    704\u001b[0m             \u001b[0;32mreturn\u001b[0m \u001b[0mstream\u001b[0m\u001b[0;34m.\u001b[0m\u001b[0mgetvalue\u001b[0m\u001b[0;34m(\u001b[0m\u001b[0;34m)\u001b[0m\u001b[0;34m\u001b[0m\u001b[0;34m\u001b[0m\u001b[0m\n",
      "\u001b[0;32m~/miniconda3/envs/aif360/lib/python3.7/site-packages/IPython/lib/pretty.py\u001b[0m in \u001b[0;36mpretty\u001b[0;34m(self, obj)\u001b[0m\n\u001b[1;32m    392\u001b[0m                         \u001b[0;32mif\u001b[0m \u001b[0mcls\u001b[0m \u001b[0;32mis\u001b[0m \u001b[0;32mnot\u001b[0m \u001b[0mobject\u001b[0m\u001b[0;31m \u001b[0m\u001b[0;31m\\\u001b[0m\u001b[0;34m\u001b[0m\u001b[0;34m\u001b[0m\u001b[0m\n\u001b[1;32m    393\u001b[0m                                 \u001b[0;32mand\u001b[0m \u001b[0mcallable\u001b[0m\u001b[0;34m(\u001b[0m\u001b[0mcls\u001b[0m\u001b[0;34m.\u001b[0m\u001b[0m__dict__\u001b[0m\u001b[0;34m.\u001b[0m\u001b[0mget\u001b[0m\u001b[0;34m(\u001b[0m\u001b[0;34m'__repr__'\u001b[0m\u001b[0;34m)\u001b[0m\u001b[0;34m)\u001b[0m\u001b[0;34m:\u001b[0m\u001b[0;34m\u001b[0m\u001b[0;34m\u001b[0m\u001b[0m\n\u001b[0;32m--> 394\u001b[0;31m                             \u001b[0;32mreturn\u001b[0m \u001b[0m_repr_pprint\u001b[0m\u001b[0;34m(\u001b[0m\u001b[0mobj\u001b[0m\u001b[0;34m,\u001b[0m \u001b[0mself\u001b[0m\u001b[0;34m,\u001b[0m \u001b[0mcycle\u001b[0m\u001b[0;34m)\u001b[0m\u001b[0;34m\u001b[0m\u001b[0;34m\u001b[0m\u001b[0m\n\u001b[0m\u001b[1;32m    395\u001b[0m \u001b[0;34m\u001b[0m\u001b[0m\n\u001b[1;32m    396\u001b[0m             \u001b[0;32mreturn\u001b[0m \u001b[0m_default_pprint\u001b[0m\u001b[0;34m(\u001b[0m\u001b[0mobj\u001b[0m\u001b[0;34m,\u001b[0m \u001b[0mself\u001b[0m\u001b[0;34m,\u001b[0m \u001b[0mcycle\u001b[0m\u001b[0;34m)\u001b[0m\u001b[0;34m\u001b[0m\u001b[0;34m\u001b[0m\u001b[0m\n",
      "\u001b[0;32m~/miniconda3/envs/aif360/lib/python3.7/site-packages/IPython/lib/pretty.py\u001b[0m in \u001b[0;36m_repr_pprint\u001b[0;34m(obj, p, cycle)\u001b[0m\n\u001b[1;32m    698\u001b[0m     \u001b[0;34m\"\"\"A pprint that just redirects to the normal repr function.\"\"\"\u001b[0m\u001b[0;34m\u001b[0m\u001b[0;34m\u001b[0m\u001b[0m\n\u001b[1;32m    699\u001b[0m     \u001b[0;31m# Find newlines and replace them with p.break_()\u001b[0m\u001b[0;34m\u001b[0m\u001b[0;34m\u001b[0m\u001b[0;34m\u001b[0m\u001b[0m\n\u001b[0;32m--> 700\u001b[0;31m     \u001b[0moutput\u001b[0m \u001b[0;34m=\u001b[0m \u001b[0mrepr\u001b[0m\u001b[0;34m(\u001b[0m\u001b[0mobj\u001b[0m\u001b[0;34m)\u001b[0m\u001b[0;34m\u001b[0m\u001b[0;34m\u001b[0m\u001b[0m\n\u001b[0m\u001b[1;32m    701\u001b[0m     \u001b[0mlines\u001b[0m \u001b[0;34m=\u001b[0m \u001b[0moutput\u001b[0m\u001b[0;34m.\u001b[0m\u001b[0msplitlines\u001b[0m\u001b[0;34m(\u001b[0m\u001b[0;34m)\u001b[0m\u001b[0;34m\u001b[0m\u001b[0;34m\u001b[0m\u001b[0m\n\u001b[1;32m    702\u001b[0m     \u001b[0;32mwith\u001b[0m \u001b[0mp\u001b[0m\u001b[0;34m.\u001b[0m\u001b[0mgroup\u001b[0m\u001b[0;34m(\u001b[0m\u001b[0;34m)\u001b[0m\u001b[0;34m:\u001b[0m\u001b[0;34m\u001b[0m\u001b[0;34m\u001b[0m\u001b[0m\n",
      "\u001b[0;32m~/miniconda3/envs/aif360/lib/python3.7/site-packages/aif360/datasets/structured_dataset.py\u001b[0m in \u001b[0;36m__repr__\u001b[0;34m(self)\u001b[0m\n\u001b[1;32m    173\u001b[0m     \u001b[0;32mdef\u001b[0m \u001b[0m__repr__\u001b[0m\u001b[0;34m(\u001b[0m\u001b[0mself\u001b[0m\u001b[0;34m)\u001b[0m\u001b[0;34m:\u001b[0m\u001b[0;34m\u001b[0m\u001b[0;34m\u001b[0m\u001b[0m\n\u001b[1;32m    174\u001b[0m         \u001b[0;31m# return repr(self.metadata)\u001b[0m\u001b[0;34m\u001b[0m\u001b[0;34m\u001b[0m\u001b[0;34m\u001b[0m\u001b[0m\n\u001b[0;32m--> 175\u001b[0;31m         \u001b[0;32mreturn\u001b[0m \u001b[0mstr\u001b[0m\u001b[0;34m(\u001b[0m\u001b[0mself\u001b[0m\u001b[0;34m)\u001b[0m\u001b[0;34m\u001b[0m\u001b[0;34m\u001b[0m\u001b[0m\n\u001b[0m\u001b[1;32m    176\u001b[0m \u001b[0;34m\u001b[0m\u001b[0m\n\u001b[1;32m    177\u001b[0m     \u001b[0;32mdef\u001b[0m \u001b[0m__str__\u001b[0m\u001b[0;34m(\u001b[0m\u001b[0mself\u001b[0m\u001b[0;34m)\u001b[0m\u001b[0;34m:\u001b[0m\u001b[0;34m\u001b[0m\u001b[0;34m\u001b[0m\u001b[0m\n",
      "\u001b[0;32m~/miniconda3/envs/aif360/lib/python3.7/site-packages/aif360/datasets/structured_dataset.py\u001b[0m in \u001b[0;36m__str__\u001b[0;34m(self)\u001b[0m\n\u001b[1;32m    176\u001b[0m \u001b[0;34m\u001b[0m\u001b[0m\n\u001b[1;32m    177\u001b[0m     \u001b[0;32mdef\u001b[0m \u001b[0m__str__\u001b[0m\u001b[0;34m(\u001b[0m\u001b[0mself\u001b[0m\u001b[0;34m)\u001b[0m\u001b[0;34m:\u001b[0m\u001b[0;34m\u001b[0m\u001b[0;34m\u001b[0m\u001b[0m\n\u001b[0;32m--> 178\u001b[0;31m         \u001b[0mdf\u001b[0m\u001b[0;34m,\u001b[0m \u001b[0m_\u001b[0m \u001b[0;34m=\u001b[0m \u001b[0mself\u001b[0m\u001b[0;34m.\u001b[0m\u001b[0mconvert_to_dataframe\u001b[0m\u001b[0;34m(\u001b[0m\u001b[0;34m)\u001b[0m\u001b[0;34m\u001b[0m\u001b[0;34m\u001b[0m\u001b[0m\n\u001b[0m\u001b[1;32m    179\u001b[0m         \u001b[0mdf\u001b[0m\u001b[0;34m.\u001b[0m\u001b[0minsert\u001b[0m\u001b[0;34m(\u001b[0m\u001b[0;36m0\u001b[0m\u001b[0;34m,\u001b[0m \u001b[0;34m'instance_weights'\u001b[0m\u001b[0;34m,\u001b[0m \u001b[0mself\u001b[0m\u001b[0;34m.\u001b[0m\u001b[0minstance_weights\u001b[0m\u001b[0;34m)\u001b[0m\u001b[0;34m\u001b[0m\u001b[0;34m\u001b[0m\u001b[0m\n\u001b[1;32m    180\u001b[0m         \u001b[0mhighest_level\u001b[0m \u001b[0;34m=\u001b[0m \u001b[0;34m[\u001b[0m\u001b[0;34m'instance weights'\u001b[0m\u001b[0;34m]\u001b[0m \u001b[0;34m+\u001b[0m\u001b[0;31m \u001b[0m\u001b[0;31m\\\u001b[0m\u001b[0;34m\u001b[0m\u001b[0;34m\u001b[0m\u001b[0m\n",
      "\u001b[0;32m~/miniconda3/envs/aif360/lib/python3.7/site-packages/aif360/datasets/structured_dataset.py\u001b[0m in \u001b[0;36mconvert_to_dataframe\u001b[0;34m(self, de_dummy_code, sep, set_category)\u001b[0m\n\u001b[1;32m    362\u001b[0m \u001b[0;34m\u001b[0m\u001b[0m\n\u001b[1;32m    363\u001b[0m         \"\"\"\n\u001b[0;32m--> 364\u001b[0;31m         df = pd.DataFrame(np.hstack((self.features, self.labels)),\n\u001b[0m\u001b[1;32m    365\u001b[0m             \u001b[0mcolumns\u001b[0m\u001b[0;34m=\u001b[0m\u001b[0mself\u001b[0m\u001b[0;34m.\u001b[0m\u001b[0mfeature_names\u001b[0m\u001b[0;34m+\u001b[0m\u001b[0mself\u001b[0m\u001b[0;34m.\u001b[0m\u001b[0mlabel_names\u001b[0m\u001b[0;34m,\u001b[0m\u001b[0;34m\u001b[0m\u001b[0;34m\u001b[0m\u001b[0m\n\u001b[1;32m    366\u001b[0m             index=self.instance_names)\n",
      "\u001b[0;32m<__array_function__ internals>\u001b[0m in \u001b[0;36mhstack\u001b[0;34m(*args, **kwargs)\u001b[0m\n",
      "\u001b[0;32m~/miniconda3/envs/aif360/lib/python3.7/site-packages/numpy/core/shape_base.py\u001b[0m in \u001b[0;36mhstack\u001b[0;34m(tup)\u001b[0m\n\u001b[1;32m    343\u001b[0m         \u001b[0;32mreturn\u001b[0m \u001b[0m_nx\u001b[0m\u001b[0;34m.\u001b[0m\u001b[0mconcatenate\u001b[0m\u001b[0;34m(\u001b[0m\u001b[0marrs\u001b[0m\u001b[0;34m,\u001b[0m \u001b[0;36m0\u001b[0m\u001b[0;34m)\u001b[0m\u001b[0;34m\u001b[0m\u001b[0;34m\u001b[0m\u001b[0m\n\u001b[1;32m    344\u001b[0m     \u001b[0;32melse\u001b[0m\u001b[0;34m:\u001b[0m\u001b[0;34m\u001b[0m\u001b[0;34m\u001b[0m\u001b[0m\n\u001b[0;32m--> 345\u001b[0;31m         \u001b[0;32mreturn\u001b[0m \u001b[0m_nx\u001b[0m\u001b[0;34m.\u001b[0m\u001b[0mconcatenate\u001b[0m\u001b[0;34m(\u001b[0m\u001b[0marrs\u001b[0m\u001b[0;34m,\u001b[0m \u001b[0;36m1\u001b[0m\u001b[0;34m)\u001b[0m\u001b[0;34m\u001b[0m\u001b[0;34m\u001b[0m\u001b[0m\n\u001b[0m\u001b[1;32m    346\u001b[0m \u001b[0;34m\u001b[0m\u001b[0m\n\u001b[1;32m    347\u001b[0m \u001b[0;34m\u001b[0m\u001b[0m\n",
      "\u001b[0;32m<__array_function__ internals>\u001b[0m in \u001b[0;36mconcatenate\u001b[0;34m(*args, **kwargs)\u001b[0m\n",
      "\u001b[0;31mValueError\u001b[0m: all the input arrays must have same number of dimensions, but the array at index 0 has 2 dimension(s) and the array at index 1 has 1 dimension(s)"
     ]
    }
   ],
   "source": [
    "dataset_orig_train_pred"
   ]
  },
  {
   "cell_type": "markdown",
   "id": "russian-gospel",
   "metadata": {},
   "source": [
    "### Step 5"
   ]
  },
  {
   "cell_type": "markdown",
   "id": "champion-scholarship",
   "metadata": {},
   "source": [
    "Men Cheol's response:  \n",
    "\n",
    "Carli's response:  "
   ]
  },
  {
   "cell_type": "code",
   "execution_count": null,
   "id": "progressive-malaysia",
   "metadata": {},
   "outputs": [],
   "source": []
  }
 ],
 "metadata": {
  "kernelspec": {
   "display_name": "aif360",
   "language": "python",
   "name": "aif360"
  },
  "language_info": {
   "codemirror_mode": {
    "name": "ipython",
    "version": 3
   },
   "file_extension": ".py",
   "mimetype": "text/x-python",
   "name": "python",
   "nbconvert_exporter": "python",
   "pygments_lexer": "ipython3",
   "version": "3.7.9"
  }
 },
 "nbformat": 4,
 "nbformat_minor": 5
}
