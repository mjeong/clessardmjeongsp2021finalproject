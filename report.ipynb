{
 "cells": [
  {
   "cell_type": "markdown",
   "id": "varied-ferry",
   "metadata": {},
   "source": [
    "# Final Report\n",
    "Carli Lessard and Men Cheol Jeong  \n",
    "clessard6 and mjeong42"
   ]
  },
  {
   "cell_type": "markdown",
   "id": "olympic-portrait",
   "metadata": {},
   "source": [
    "### Step 1\n",
    "Answer the following questions in the final project report:\n",
    "* Which dataset did you select?\n",
    "Census Income Data Set [link here](https://archive.ics.uci.edu/ml/datasets/census+income)\n",
    "* Which regulated domain does your dataset belong to?\n",
    "This dataset was chosen because it could be used for the protected domains of education and employment\n",
    "* How many observations are in the dataset?\n",
    "48842\n",
    "* How many variables in the dataset?\n",
    "14\n",
    "* Which variables did you select as your dependent variables?\n",
    "Workclass and education\n",
    "* How many and which variables in the dataset are associated with a legally recognized protected class? Which legal precedence/law (as discussed in the lectures)does each protected class fall under?\n",
    "5 variables are associated with a legally recognized protected class.\n",
    "1. age: Age Discrimination in Employment Act of 1967\n",
    "2. marital status: Civil Rights Act of 1968\n",
    "3. race: Civil Rights Act of 1964, 1991\n",
    "4. sex: Equal Pay Act of 1963; Civil Rights Act of 1964, 1991\n",
    "5. native-country: Civil Rights Act of 1964, 1991"
   ]
  },
  {
   "cell_type": "markdown",
   "id": "controlling-screw",
   "metadata": {},
   "source": [
    "### Step 2"
   ]
  },
  {
   "cell_type": "code",
   "execution_count": 1,
   "id": "based-services",
   "metadata": {},
   "outputs": [],
   "source": [
    "import pandas as pd\n",
    "import matplotlib.pyplot as plt\n",
    "import numpy as np\n",
    "import math\n",
    "from aif360.datasets import StandardDataset\n",
    "from aif360.metrics import BinaryLabelDatasetMetric\n",
    "from aif360.algorithms.preprocessing import DisparateImpactRemover, Reweighing\n",
    "from sklearn.preprocessing import StandardScaler\n",
    "from sklearn.linear_model import LogisticRegression"
   ]
  },
  {
   "cell_type": "code",
   "execution_count": 2,
   "id": "adapted-integer",
   "metadata": {},
   "outputs": [],
   "source": [
    "df = pd.read_csv(\n",
    "    \"adult.data\", \n",
    "    header=None, \n",
    "    names= [\"age\", \"workclass\", \"fnlwgt\", \"education\", \"education_num\", \"marital_status\", \"occupation\", \"relationship\", \"race\", \"sex\", \"capital_gain\", \"capital_loss\", \"hours_per_week\", \"native_country\", \"more_or_less_50\"])"
   ]
  },
  {
   "cell_type": "code",
   "execution_count": 3,
   "id": "pressed-tuning",
   "metadata": {},
   "outputs": [
    {
     "data": {
      "text/html": [
       "<div>\n",
       "<style scoped>\n",
       "    .dataframe tbody tr th:only-of-type {\n",
       "        vertical-align: middle;\n",
       "    }\n",
       "\n",
       "    .dataframe tbody tr th {\n",
       "        vertical-align: top;\n",
       "    }\n",
       "\n",
       "    .dataframe thead th {\n",
       "        text-align: right;\n",
       "    }\n",
       "</style>\n",
       "<table border=\"1\" class=\"dataframe\">\n",
       "  <thead>\n",
       "    <tr style=\"text-align: right;\">\n",
       "      <th></th>\n",
       "      <th>age</th>\n",
       "      <th>workclass</th>\n",
       "      <th>fnlwgt</th>\n",
       "      <th>education</th>\n",
       "      <th>education_num</th>\n",
       "      <th>marital_status</th>\n",
       "      <th>occupation</th>\n",
       "      <th>relationship</th>\n",
       "      <th>race</th>\n",
       "      <th>sex</th>\n",
       "      <th>capital_gain</th>\n",
       "      <th>capital_loss</th>\n",
       "      <th>hours_per_week</th>\n",
       "      <th>native_country</th>\n",
       "      <th>more_or_less_50</th>\n",
       "    </tr>\n",
       "  </thead>\n",
       "  <tbody>\n",
       "    <tr>\n",
       "      <th>0</th>\n",
       "      <td>39</td>\n",
       "      <td>State-gov</td>\n",
       "      <td>77516</td>\n",
       "      <td>Bachelors</td>\n",
       "      <td>13</td>\n",
       "      <td>Never-married</td>\n",
       "      <td>Adm-clerical</td>\n",
       "      <td>Not-in-family</td>\n",
       "      <td>White</td>\n",
       "      <td>Male</td>\n",
       "      <td>2174</td>\n",
       "      <td>0</td>\n",
       "      <td>40</td>\n",
       "      <td>United-States</td>\n",
       "      <td>&lt;=50K</td>\n",
       "    </tr>\n",
       "    <tr>\n",
       "      <th>1</th>\n",
       "      <td>50</td>\n",
       "      <td>Self-emp-not-inc</td>\n",
       "      <td>83311</td>\n",
       "      <td>Bachelors</td>\n",
       "      <td>13</td>\n",
       "      <td>Married-civ-spouse</td>\n",
       "      <td>Exec-managerial</td>\n",
       "      <td>Husband</td>\n",
       "      <td>White</td>\n",
       "      <td>Male</td>\n",
       "      <td>0</td>\n",
       "      <td>0</td>\n",
       "      <td>13</td>\n",
       "      <td>United-States</td>\n",
       "      <td>&lt;=50K</td>\n",
       "    </tr>\n",
       "    <tr>\n",
       "      <th>2</th>\n",
       "      <td>38</td>\n",
       "      <td>Private</td>\n",
       "      <td>215646</td>\n",
       "      <td>HS-grad</td>\n",
       "      <td>9</td>\n",
       "      <td>Divorced</td>\n",
       "      <td>Handlers-cleaners</td>\n",
       "      <td>Not-in-family</td>\n",
       "      <td>White</td>\n",
       "      <td>Male</td>\n",
       "      <td>0</td>\n",
       "      <td>0</td>\n",
       "      <td>40</td>\n",
       "      <td>United-States</td>\n",
       "      <td>&lt;=50K</td>\n",
       "    </tr>\n",
       "    <tr>\n",
       "      <th>3</th>\n",
       "      <td>53</td>\n",
       "      <td>Private</td>\n",
       "      <td>234721</td>\n",
       "      <td>11th</td>\n",
       "      <td>7</td>\n",
       "      <td>Married-civ-spouse</td>\n",
       "      <td>Handlers-cleaners</td>\n",
       "      <td>Husband</td>\n",
       "      <td>Black</td>\n",
       "      <td>Male</td>\n",
       "      <td>0</td>\n",
       "      <td>0</td>\n",
       "      <td>40</td>\n",
       "      <td>United-States</td>\n",
       "      <td>&lt;=50K</td>\n",
       "    </tr>\n",
       "    <tr>\n",
       "      <th>4</th>\n",
       "      <td>28</td>\n",
       "      <td>Private</td>\n",
       "      <td>338409</td>\n",
       "      <td>Bachelors</td>\n",
       "      <td>13</td>\n",
       "      <td>Married-civ-spouse</td>\n",
       "      <td>Prof-specialty</td>\n",
       "      <td>Wife</td>\n",
       "      <td>Black</td>\n",
       "      <td>Female</td>\n",
       "      <td>0</td>\n",
       "      <td>0</td>\n",
       "      <td>40</td>\n",
       "      <td>Cuba</td>\n",
       "      <td>&lt;=50K</td>\n",
       "    </tr>\n",
       "    <tr>\n",
       "      <th>...</th>\n",
       "      <td>...</td>\n",
       "      <td>...</td>\n",
       "      <td>...</td>\n",
       "      <td>...</td>\n",
       "      <td>...</td>\n",
       "      <td>...</td>\n",
       "      <td>...</td>\n",
       "      <td>...</td>\n",
       "      <td>...</td>\n",
       "      <td>...</td>\n",
       "      <td>...</td>\n",
       "      <td>...</td>\n",
       "      <td>...</td>\n",
       "      <td>...</td>\n",
       "      <td>...</td>\n",
       "    </tr>\n",
       "    <tr>\n",
       "      <th>32556</th>\n",
       "      <td>27</td>\n",
       "      <td>Private</td>\n",
       "      <td>257302</td>\n",
       "      <td>Assoc-acdm</td>\n",
       "      <td>12</td>\n",
       "      <td>Married-civ-spouse</td>\n",
       "      <td>Tech-support</td>\n",
       "      <td>Wife</td>\n",
       "      <td>White</td>\n",
       "      <td>Female</td>\n",
       "      <td>0</td>\n",
       "      <td>0</td>\n",
       "      <td>38</td>\n",
       "      <td>United-States</td>\n",
       "      <td>&lt;=50K</td>\n",
       "    </tr>\n",
       "    <tr>\n",
       "      <th>32557</th>\n",
       "      <td>40</td>\n",
       "      <td>Private</td>\n",
       "      <td>154374</td>\n",
       "      <td>HS-grad</td>\n",
       "      <td>9</td>\n",
       "      <td>Married-civ-spouse</td>\n",
       "      <td>Machine-op-inspct</td>\n",
       "      <td>Husband</td>\n",
       "      <td>White</td>\n",
       "      <td>Male</td>\n",
       "      <td>0</td>\n",
       "      <td>0</td>\n",
       "      <td>40</td>\n",
       "      <td>United-States</td>\n",
       "      <td>&gt;50K</td>\n",
       "    </tr>\n",
       "    <tr>\n",
       "      <th>32558</th>\n",
       "      <td>58</td>\n",
       "      <td>Private</td>\n",
       "      <td>151910</td>\n",
       "      <td>HS-grad</td>\n",
       "      <td>9</td>\n",
       "      <td>Widowed</td>\n",
       "      <td>Adm-clerical</td>\n",
       "      <td>Unmarried</td>\n",
       "      <td>White</td>\n",
       "      <td>Female</td>\n",
       "      <td>0</td>\n",
       "      <td>0</td>\n",
       "      <td>40</td>\n",
       "      <td>United-States</td>\n",
       "      <td>&lt;=50K</td>\n",
       "    </tr>\n",
       "    <tr>\n",
       "      <th>32559</th>\n",
       "      <td>22</td>\n",
       "      <td>Private</td>\n",
       "      <td>201490</td>\n",
       "      <td>HS-grad</td>\n",
       "      <td>9</td>\n",
       "      <td>Never-married</td>\n",
       "      <td>Adm-clerical</td>\n",
       "      <td>Own-child</td>\n",
       "      <td>White</td>\n",
       "      <td>Male</td>\n",
       "      <td>0</td>\n",
       "      <td>0</td>\n",
       "      <td>20</td>\n",
       "      <td>United-States</td>\n",
       "      <td>&lt;=50K</td>\n",
       "    </tr>\n",
       "    <tr>\n",
       "      <th>32560</th>\n",
       "      <td>52</td>\n",
       "      <td>Self-emp-inc</td>\n",
       "      <td>287927</td>\n",
       "      <td>HS-grad</td>\n",
       "      <td>9</td>\n",
       "      <td>Married-civ-spouse</td>\n",
       "      <td>Exec-managerial</td>\n",
       "      <td>Wife</td>\n",
       "      <td>White</td>\n",
       "      <td>Female</td>\n",
       "      <td>15024</td>\n",
       "      <td>0</td>\n",
       "      <td>40</td>\n",
       "      <td>United-States</td>\n",
       "      <td>&gt;50K</td>\n",
       "    </tr>\n",
       "  </tbody>\n",
       "</table>\n",
       "<p>32561 rows × 15 columns</p>\n",
       "</div>"
      ],
      "text/plain": [
       "       age          workclass  fnlwgt    education  education_num  \\\n",
       "0       39          State-gov   77516    Bachelors             13   \n",
       "1       50   Self-emp-not-inc   83311    Bachelors             13   \n",
       "2       38            Private  215646      HS-grad              9   \n",
       "3       53            Private  234721         11th              7   \n",
       "4       28            Private  338409    Bachelors             13   \n",
       "...    ...                ...     ...          ...            ...   \n",
       "32556   27            Private  257302   Assoc-acdm             12   \n",
       "32557   40            Private  154374      HS-grad              9   \n",
       "32558   58            Private  151910      HS-grad              9   \n",
       "32559   22            Private  201490      HS-grad              9   \n",
       "32560   52       Self-emp-inc  287927      HS-grad              9   \n",
       "\n",
       "            marital_status          occupation    relationship    race  \\\n",
       "0            Never-married        Adm-clerical   Not-in-family   White   \n",
       "1       Married-civ-spouse     Exec-managerial         Husband   White   \n",
       "2                 Divorced   Handlers-cleaners   Not-in-family   White   \n",
       "3       Married-civ-spouse   Handlers-cleaners         Husband   Black   \n",
       "4       Married-civ-spouse      Prof-specialty            Wife   Black   \n",
       "...                    ...                 ...             ...     ...   \n",
       "32556   Married-civ-spouse        Tech-support            Wife   White   \n",
       "32557   Married-civ-spouse   Machine-op-inspct         Husband   White   \n",
       "32558              Widowed        Adm-clerical       Unmarried   White   \n",
       "32559        Never-married        Adm-clerical       Own-child   White   \n",
       "32560   Married-civ-spouse     Exec-managerial            Wife   White   \n",
       "\n",
       "           sex  capital_gain  capital_loss  hours_per_week  native_country  \\\n",
       "0         Male          2174             0              40   United-States   \n",
       "1         Male             0             0              13   United-States   \n",
       "2         Male             0             0              40   United-States   \n",
       "3         Male             0             0              40   United-States   \n",
       "4       Female             0             0              40            Cuba   \n",
       "...        ...           ...           ...             ...             ...   \n",
       "32556   Female             0             0              38   United-States   \n",
       "32557     Male             0             0              40   United-States   \n",
       "32558   Female             0             0              40   United-States   \n",
       "32559     Male             0             0              20   United-States   \n",
       "32560   Female         15024             0              40   United-States   \n",
       "\n",
       "      more_or_less_50  \n",
       "0               <=50K  \n",
       "1               <=50K  \n",
       "2               <=50K  \n",
       "3               <=50K  \n",
       "4               <=50K  \n",
       "...               ...  \n",
       "32556           <=50K  \n",
       "32557            >50K  \n",
       "32558           <=50K  \n",
       "32559           <=50K  \n",
       "32560            >50K  \n",
       "\n",
       "[32561 rows x 15 columns]"
      ]
     },
     "execution_count": 3,
     "metadata": {},
     "output_type": "execute_result"
    }
   ],
   "source": [
    "df"
   ]
  },
  {
   "cell_type": "code",
   "execution_count": 4,
   "id": "interior-imperial",
   "metadata": {},
   "outputs": [],
   "source": [
    "df.loc[df.age < 40, \"age_category\"] = 0\n",
    "df.loc[df.age >= 40, \"age_category\"] = 1"
   ]
  },
  {
   "cell_type": "markdown",
   "id": "fluid-mathematics",
   "metadata": {},
   "source": [
    "#### Age\n",
    "| Age values | Category     |\n",
    "| ---------- | ------------ |\n",
    "| 0-39       | 0 (Under 40) |\n",
    "| 40+        | 1 (Over 40)  |\n"
   ]
  },
  {
   "cell_type": "code",
   "execution_count": 5,
   "id": "annual-albania",
   "metadata": {},
   "outputs": [],
   "source": [
    "for value, category in [\n",
    "    (\" Married-civ-spouse\", 0 ),\n",
    "    (\" Married-AF-spouse\", 1),\n",
    "    (\" Widowed\", 1),\n",
    "    (\" Separated\", 1),\n",
    "    (\" Divorced\", 1),\n",
    "    (\" Married-spouse-absent\", 1),\n",
    "    (\" Never-married\", 1)]:\n",
    "    df.loc[df.marital_status == value, 'marital_category'] = category"
   ]
  },
  {
   "cell_type": "markdown",
   "id": "threaded-jaguar",
   "metadata": {},
   "source": [
    "#### Marital status\n",
    "| Marital status value  | Category |\n",
    "| --------------------- | -------- |\n",
    "| Married-civ-spouse    | 0 (Spouse present) |\n",
    "| Divorced              | 1   (Spouse absent)      |\n",
    "| Never-married        | 1   (Spouse absent)      |\n",
    "| Separated            | 1   (Spouse absent)      |\n",
    "| Widowed              | 1   (Spouse absent)      |\n",
    "| Married-spouse-absent | 1   (Spouse absent)      |\n",
    "| Married-AF-spouse | 1   (Spouse absent)      |"
   ]
  },
  {
   "cell_type": "code",
   "execution_count": 6,
   "id": "military-literacy",
   "metadata": {},
   "outputs": [],
   "source": [
    "for value, category in [\n",
    "    (\" White\", 0 ),\n",
    "    (\" Asian-Pac-Islander\", 1),\n",
    "    (\" Amer-Indian-Eskimo\", 1),\n",
    "    (\" Other\", 1),\n",
    "    (\" Black\", 1),]:\n",
    "    df.loc[df.race == value, 'race_category'] = category"
   ]
  },
  {
   "cell_type": "markdown",
   "id": "rocky-monster",
   "metadata": {},
   "source": [
    "#### Race\n",
    "| Race value         | Category |\n",
    "| ------------------ | -------- |\n",
    "| White              | 0 (White)       |\n",
    "| Asian-Pac-Islander | 1 (Not white)       |\n",
    "| Amer-Indian-Eskimo | 1 (Not white)       |\n",
    "| Other              | 1  (Not white)      |\n",
    "| Black              | 1  (Not white)      |"
   ]
  },
  {
   "cell_type": "code",
   "execution_count": 7,
   "id": "geographic-decision",
   "metadata": {},
   "outputs": [],
   "source": [
    "df.loc[df.sex == \" Male\", \"sex_category\"] = 0\n",
    "df.loc[df.sex == \" Female\", \"sex_category\"] = 1"
   ]
  },
  {
   "cell_type": "markdown",
   "id": "occupied-gardening",
   "metadata": {},
   "source": [
    "#### Sex\n",
    "| Sex value    | Category |\n",
    "| ------ | ----------- |\n",
    "| Male   | 0  (Male)      |\n",
    "| Female | 1   (Female)   |"
   ]
  },
  {
   "cell_type": "code",
   "execution_count": 8,
   "id": "printable-spring",
   "metadata": {},
   "outputs": [],
   "source": [
    "df.loc[df.native_country == \" United-States\", \"country_category\"] = 0\n",
    "df.loc[df.native_country != \" United-States\", \"country_category\"] = 1"
   ]
  },
  {
   "cell_type": "markdown",
   "id": "painted-masters",
   "metadata": {},
   "source": [
    "#### Native country\n",
    "| Native Country | Category |\n",
    "| -------------- | ----------- |\n",
    "| United-States  | 0 (US) |\n",
    "| Canada, Outlying-US(Guam-USVI-etc), Jamaica , Mexico,  Dominican-Republic, Haiti, England, Germany, Greece, Italy, Poland, Portugal, Ireland, France, Hungary, Scotland, Yugoslavia, Holand-Netherlands, Puerto-Rico, Honduras, Guatemala, Nicaragua, El-Salvador, Ecuador, Columbia, Trinadad&Tobago, Peru, Cambodia, India, Japan, China, Philippines, Vietnam, Laos, Taiwan, Thailand, Hong, Iran, South | 1 (Other)        |"
   ]
  },
  {
   "cell_type": "code",
   "execution_count": 9,
   "id": "attempted-running",
   "metadata": {},
   "outputs": [],
   "source": [
    "for value, category in [\n",
    "    (' Bachelors', 0),\n",
    "    (' HS-grad', 0),\n",
    "    (' Masters', 0),\n",
    "    (' Some-college', 0),\n",
    "    (' Assoc-acdm', 0),\n",
    "    (' Assoc-voc', 0),\n",
    "    (' Doctorate', 0),\n",
    "    (' Prof-school', 0),\n",
    "    (' 11th', 1),\n",
    "    (' 9th', 1),\n",
    "    (' 7th-8th', 1),\n",
    "    (' 5th-6th', 1),\n",
    "    (' 10th', 1),\n",
    "    (' 1st-4th', 1),\n",
    "    (' Preschool', 1),\n",
    "    (' 12th', 1),]:\n",
    "    df.loc[df.education == value, 'education_category'] = category"
   ]
  },
  {
   "cell_type": "markdown",
   "id": "framed-embassy",
   "metadata": {},
   "source": [
    "#### Education\n",
    "| Education                                                                                | Category                         |\n",
    "| ---------------------------------------------------------------------------------------- | -------------------------------- |\n",
    "| Bachelors, Some-college, HS-grad, Prof-school, Assoc-acdm, Assoc-voc, Masters, Doctorate | Graduates High School (0)        |\n",
    "| 11th, 9th, 7th-8th, 12th, 1st-4th, 10th, 5th-6th, Preschool                              | Doesn't Graduate High School (1) |"
   ]
  },
  {
   "cell_type": "code",
   "execution_count": 10,
   "id": "characteristic-consistency",
   "metadata": {},
   "outputs": [],
   "source": [
    "for value, category in [\n",
    "    (' Adm-clerical', 0),\n",
    "    (' Exec-managerial', 0),\n",
    "    (' Prof-specialty', 0),\n",
    "    (' Sales', 0),\n",
    "    (' Tech-support', 0),\n",
    "    (' Handlers-cleaners', 1),\n",
    "    (' Other-service', 1),\n",
    "    (' Craft-repair', 1),\n",
    "    (' Transport-moving', 1),\n",
    "    (' Farming-fishing', 1),\n",
    "    (' Machine-op-inspct', 1),\n",
    "    (' ?', 1),\n",
    "    (' Protective-serv', 1),\n",
    "    (' Armed-Forces', 1),\n",
    "    (' Priv-house-serv', 1),]:\n",
    "    df.loc[df.occupation == value, 'job_category'] = category"
   ]
  },
  {
   "cell_type": "markdown",
   "id": "nearby-power",
   "metadata": {},
   "source": [
    "#### Job Category\n",
    "| Occupation    | Category |\n",
    "| ------ | ----------- |\n",
    "| Craft-repair, Other-service, Handlers-cleaners, Machine-op-inspct, Farming-fishing, Transport-moving, Priv-house-serv, Protective-serv, Armed-Forces | Blue Collar (0) |\n",
    "| Tech-support, Sales, Exec-managerial, Prof-specialty, Adm-clerical | White Collar (1) |"
   ]
  },
  {
   "cell_type": "code",
   "execution_count": 11,
   "id": "connected-water",
   "metadata": {},
   "outputs": [
    {
     "data": {
      "text/html": [
       "<div>\n",
       "<style scoped>\n",
       "    .dataframe tbody tr th:only-of-type {\n",
       "        vertical-align: middle;\n",
       "    }\n",
       "\n",
       "    .dataframe tbody tr th {\n",
       "        vertical-align: top;\n",
       "    }\n",
       "\n",
       "    .dataframe thead th {\n",
       "        text-align: right;\n",
       "    }\n",
       "</style>\n",
       "<table border=\"1\" class=\"dataframe\">\n",
       "  <thead>\n",
       "    <tr style=\"text-align: right;\">\n",
       "      <th></th>\n",
       "      <th>age_category</th>\n",
       "      <th>education_category</th>\n",
       "      <th>counts</th>\n",
       "    </tr>\n",
       "  </thead>\n",
       "  <tbody>\n",
       "    <tr>\n",
       "      <th>0</th>\n",
       "      <td>0.0</td>\n",
       "      <td>0.0</td>\n",
       "      <td>15926</td>\n",
       "    </tr>\n",
       "    <tr>\n",
       "      <th>1</th>\n",
       "      <td>0.0</td>\n",
       "      <td>1.0</td>\n",
       "      <td>2398</td>\n",
       "    </tr>\n",
       "    <tr>\n",
       "      <th>2</th>\n",
       "      <td>1.0</td>\n",
       "      <td>0.0</td>\n",
       "      <td>12382</td>\n",
       "    </tr>\n",
       "    <tr>\n",
       "      <th>3</th>\n",
       "      <td>1.0</td>\n",
       "      <td>1.0</td>\n",
       "      <td>1855</td>\n",
       "    </tr>\n",
       "  </tbody>\n",
       "</table>\n",
       "</div>"
      ],
      "text/plain": [
       "   age_category  education_category  counts\n",
       "0           0.0                 0.0   15926\n",
       "1           0.0                 1.0    2398\n",
       "2           1.0                 0.0   12382\n",
       "3           1.0                 1.0    1855"
      ]
     },
     "execution_count": 11,
     "metadata": {},
     "output_type": "execute_result"
    }
   ],
   "source": [
    "age_education = df.groupby(['age_category', 'education_category']).size()\n",
    "age_education.reset_index(name='counts')"
   ]
  },
  {
   "cell_type": "code",
   "execution_count": 12,
   "id": "short-gazette",
   "metadata": {},
   "outputs": [
    {
     "data": {
      "text/html": [
       "<div>\n",
       "<style scoped>\n",
       "    .dataframe tbody tr th:only-of-type {\n",
       "        vertical-align: middle;\n",
       "    }\n",
       "\n",
       "    .dataframe tbody tr th {\n",
       "        vertical-align: top;\n",
       "    }\n",
       "\n",
       "    .dataframe thead th {\n",
       "        text-align: right;\n",
       "    }\n",
       "</style>\n",
       "<table border=\"1\" class=\"dataframe\">\n",
       "  <thead>\n",
       "    <tr style=\"text-align: right;\">\n",
       "      <th></th>\n",
       "      <th>marital_category</th>\n",
       "      <th>education_category</th>\n",
       "      <th>counts</th>\n",
       "    </tr>\n",
       "  </thead>\n",
       "  <tbody>\n",
       "    <tr>\n",
       "      <th>0</th>\n",
       "      <td>0.0</td>\n",
       "      <td>0.0</td>\n",
       "      <td>13281</td>\n",
       "    </tr>\n",
       "    <tr>\n",
       "      <th>1</th>\n",
       "      <td>0.0</td>\n",
       "      <td>1.0</td>\n",
       "      <td>1695</td>\n",
       "    </tr>\n",
       "    <tr>\n",
       "      <th>2</th>\n",
       "      <td>1.0</td>\n",
       "      <td>0.0</td>\n",
       "      <td>15027</td>\n",
       "    </tr>\n",
       "    <tr>\n",
       "      <th>3</th>\n",
       "      <td>1.0</td>\n",
       "      <td>1.0</td>\n",
       "      <td>2558</td>\n",
       "    </tr>\n",
       "  </tbody>\n",
       "</table>\n",
       "</div>"
      ],
      "text/plain": [
       "   marital_category  education_category  counts\n",
       "0               0.0                 0.0   13281\n",
       "1               0.0                 1.0    1695\n",
       "2               1.0                 0.0   15027\n",
       "3               1.0                 1.0    2558"
      ]
     },
     "execution_count": 12,
     "metadata": {},
     "output_type": "execute_result"
    }
   ],
   "source": [
    "marital_education = df.groupby(['marital_category', 'education_category']).size()\n",
    "marital_education.reset_index(name='counts')"
   ]
  },
  {
   "cell_type": "code",
   "execution_count": 13,
   "id": "tested-review",
   "metadata": {},
   "outputs": [
    {
     "data": {
      "text/html": [
       "<div>\n",
       "<style scoped>\n",
       "    .dataframe tbody tr th:only-of-type {\n",
       "        vertical-align: middle;\n",
       "    }\n",
       "\n",
       "    .dataframe tbody tr th {\n",
       "        vertical-align: top;\n",
       "    }\n",
       "\n",
       "    .dataframe thead th {\n",
       "        text-align: right;\n",
       "    }\n",
       "</style>\n",
       "<table border=\"1\" class=\"dataframe\">\n",
       "  <thead>\n",
       "    <tr style=\"text-align: right;\">\n",
       "      <th></th>\n",
       "      <th>race_category</th>\n",
       "      <th>education_category</th>\n",
       "      <th>counts</th>\n",
       "    </tr>\n",
       "  </thead>\n",
       "  <tbody>\n",
       "    <tr>\n",
       "      <th>0</th>\n",
       "      <td>0.0</td>\n",
       "      <td>0.0</td>\n",
       "      <td>24335</td>\n",
       "    </tr>\n",
       "    <tr>\n",
       "      <th>1</th>\n",
       "      <td>0.0</td>\n",
       "      <td>1.0</td>\n",
       "      <td>3481</td>\n",
       "    </tr>\n",
       "    <tr>\n",
       "      <th>2</th>\n",
       "      <td>1.0</td>\n",
       "      <td>0.0</td>\n",
       "      <td>3973</td>\n",
       "    </tr>\n",
       "    <tr>\n",
       "      <th>3</th>\n",
       "      <td>1.0</td>\n",
       "      <td>1.0</td>\n",
       "      <td>772</td>\n",
       "    </tr>\n",
       "  </tbody>\n",
       "</table>\n",
       "</div>"
      ],
      "text/plain": [
       "   race_category  education_category  counts\n",
       "0            0.0                 0.0   24335\n",
       "1            0.0                 1.0    3481\n",
       "2            1.0                 0.0    3973\n",
       "3            1.0                 1.0     772"
      ]
     },
     "execution_count": 13,
     "metadata": {},
     "output_type": "execute_result"
    }
   ],
   "source": [
    "race_education = df.groupby(['race_category', 'education_category']).size()\n",
    "race_education.reset_index(name='counts')"
   ]
  },
  {
   "cell_type": "code",
   "execution_count": 14,
   "id": "appreciated-theta",
   "metadata": {},
   "outputs": [
    {
     "data": {
      "text/html": [
       "<div>\n",
       "<style scoped>\n",
       "    .dataframe tbody tr th:only-of-type {\n",
       "        vertical-align: middle;\n",
       "    }\n",
       "\n",
       "    .dataframe tbody tr th {\n",
       "        vertical-align: top;\n",
       "    }\n",
       "\n",
       "    .dataframe thead th {\n",
       "        text-align: right;\n",
       "    }\n",
       "</style>\n",
       "<table border=\"1\" class=\"dataframe\">\n",
       "  <thead>\n",
       "    <tr style=\"text-align: right;\">\n",
       "      <th></th>\n",
       "      <th>sex_category</th>\n",
       "      <th>education_category</th>\n",
       "      <th>counts</th>\n",
       "    </tr>\n",
       "  </thead>\n",
       "  <tbody>\n",
       "    <tr>\n",
       "      <th>0</th>\n",
       "      <td>0.0</td>\n",
       "      <td>0.0</td>\n",
       "      <td>18858</td>\n",
       "    </tr>\n",
       "    <tr>\n",
       "      <th>1</th>\n",
       "      <td>0.0</td>\n",
       "      <td>1.0</td>\n",
       "      <td>2932</td>\n",
       "    </tr>\n",
       "    <tr>\n",
       "      <th>2</th>\n",
       "      <td>1.0</td>\n",
       "      <td>0.0</td>\n",
       "      <td>9450</td>\n",
       "    </tr>\n",
       "    <tr>\n",
       "      <th>3</th>\n",
       "      <td>1.0</td>\n",
       "      <td>1.0</td>\n",
       "      <td>1321</td>\n",
       "    </tr>\n",
       "  </tbody>\n",
       "</table>\n",
       "</div>"
      ],
      "text/plain": [
       "   sex_category  education_category  counts\n",
       "0           0.0                 0.0   18858\n",
       "1           0.0                 1.0    2932\n",
       "2           1.0                 0.0    9450\n",
       "3           1.0                 1.0    1321"
      ]
     },
     "execution_count": 14,
     "metadata": {},
     "output_type": "execute_result"
    }
   ],
   "source": [
    "sex_education = df.groupby(['sex_category', 'education_category']).size()\n",
    "sex_education.reset_index(name='counts')"
   ]
  },
  {
   "cell_type": "code",
   "execution_count": 15,
   "id": "inappropriate-wrong",
   "metadata": {},
   "outputs": [
    {
     "data": {
      "text/html": [
       "<div>\n",
       "<style scoped>\n",
       "    .dataframe tbody tr th:only-of-type {\n",
       "        vertical-align: middle;\n",
       "    }\n",
       "\n",
       "    .dataframe tbody tr th {\n",
       "        vertical-align: top;\n",
       "    }\n",
       "\n",
       "    .dataframe thead th {\n",
       "        text-align: right;\n",
       "    }\n",
       "</style>\n",
       "<table border=\"1\" class=\"dataframe\">\n",
       "  <thead>\n",
       "    <tr style=\"text-align: right;\">\n",
       "      <th></th>\n",
       "      <th>country_category</th>\n",
       "      <th>education_category</th>\n",
       "      <th>counts</th>\n",
       "    </tr>\n",
       "  </thead>\n",
       "  <tbody>\n",
       "    <tr>\n",
       "      <th>0</th>\n",
       "      <td>0.0</td>\n",
       "      <td>0.0</td>\n",
       "      <td>25836</td>\n",
       "    </tr>\n",
       "    <tr>\n",
       "      <th>1</th>\n",
       "      <td>0.0</td>\n",
       "      <td>1.0</td>\n",
       "      <td>3334</td>\n",
       "    </tr>\n",
       "    <tr>\n",
       "      <th>2</th>\n",
       "      <td>1.0</td>\n",
       "      <td>0.0</td>\n",
       "      <td>2472</td>\n",
       "    </tr>\n",
       "    <tr>\n",
       "      <th>3</th>\n",
       "      <td>1.0</td>\n",
       "      <td>1.0</td>\n",
       "      <td>919</td>\n",
       "    </tr>\n",
       "  </tbody>\n",
       "</table>\n",
       "</div>"
      ],
      "text/plain": [
       "   country_category  education_category  counts\n",
       "0               0.0                 0.0   25836\n",
       "1               0.0                 1.0    3334\n",
       "2               1.0                 0.0    2472\n",
       "3               1.0                 1.0     919"
      ]
     },
     "execution_count": 15,
     "metadata": {},
     "output_type": "execute_result"
    }
   ],
   "source": [
    "country_education = df.groupby(['country_category', 'education_category']).size()\n",
    "country_education.reset_index(name='counts')"
   ]
  },
  {
   "cell_type": "code",
   "execution_count": 16,
   "id": "according-christmas",
   "metadata": {},
   "outputs": [
    {
     "data": {
      "text/html": [
       "<div>\n",
       "<style scoped>\n",
       "    .dataframe tbody tr th:only-of-type {\n",
       "        vertical-align: middle;\n",
       "    }\n",
       "\n",
       "    .dataframe tbody tr th {\n",
       "        vertical-align: top;\n",
       "    }\n",
       "\n",
       "    .dataframe thead th {\n",
       "        text-align: right;\n",
       "    }\n",
       "</style>\n",
       "<table border=\"1\" class=\"dataframe\">\n",
       "  <thead>\n",
       "    <tr style=\"text-align: right;\">\n",
       "      <th></th>\n",
       "      <th>age_category</th>\n",
       "      <th>job_category</th>\n",
       "      <th>counts</th>\n",
       "    </tr>\n",
       "  </thead>\n",
       "  <tbody>\n",
       "    <tr>\n",
       "      <th>0</th>\n",
       "      <td>0.0</td>\n",
       "      <td>0.0</td>\n",
       "      <td>8838</td>\n",
       "    </tr>\n",
       "    <tr>\n",
       "      <th>1</th>\n",
       "      <td>0.0</td>\n",
       "      <td>1.0</td>\n",
       "      <td>9486</td>\n",
       "    </tr>\n",
       "    <tr>\n",
       "      <th>2</th>\n",
       "      <td>1.0</td>\n",
       "      <td>0.0</td>\n",
       "      <td>7716</td>\n",
       "    </tr>\n",
       "    <tr>\n",
       "      <th>3</th>\n",
       "      <td>1.0</td>\n",
       "      <td>1.0</td>\n",
       "      <td>6521</td>\n",
       "    </tr>\n",
       "  </tbody>\n",
       "</table>\n",
       "</div>"
      ],
      "text/plain": [
       "   age_category  job_category  counts\n",
       "0           0.0           0.0    8838\n",
       "1           0.0           1.0    9486\n",
       "2           1.0           0.0    7716\n",
       "3           1.0           1.0    6521"
      ]
     },
     "execution_count": 16,
     "metadata": {},
     "output_type": "execute_result"
    }
   ],
   "source": [
    "age_job = df.groupby(['age_category', 'job_category']).size()\n",
    "age_job.reset_index(name='counts')"
   ]
  },
  {
   "cell_type": "code",
   "execution_count": 17,
   "id": "likely-cosmetic",
   "metadata": {},
   "outputs": [
    {
     "data": {
      "text/html": [
       "<div>\n",
       "<style scoped>\n",
       "    .dataframe tbody tr th:only-of-type {\n",
       "        vertical-align: middle;\n",
       "    }\n",
       "\n",
       "    .dataframe tbody tr th {\n",
       "        vertical-align: top;\n",
       "    }\n",
       "\n",
       "    .dataframe thead th {\n",
       "        text-align: right;\n",
       "    }\n",
       "</style>\n",
       "<table border=\"1\" class=\"dataframe\">\n",
       "  <thead>\n",
       "    <tr style=\"text-align: right;\">\n",
       "      <th></th>\n",
       "      <th>marital_category</th>\n",
       "      <th>job_category</th>\n",
       "      <th>counts</th>\n",
       "    </tr>\n",
       "  </thead>\n",
       "  <tbody>\n",
       "    <tr>\n",
       "      <th>0</th>\n",
       "      <td>0.0</td>\n",
       "      <td>0.0</td>\n",
       "      <td>7623</td>\n",
       "    </tr>\n",
       "    <tr>\n",
       "      <th>1</th>\n",
       "      <td>0.0</td>\n",
       "      <td>1.0</td>\n",
       "      <td>7353</td>\n",
       "    </tr>\n",
       "    <tr>\n",
       "      <th>2</th>\n",
       "      <td>1.0</td>\n",
       "      <td>0.0</td>\n",
       "      <td>8931</td>\n",
       "    </tr>\n",
       "    <tr>\n",
       "      <th>3</th>\n",
       "      <td>1.0</td>\n",
       "      <td>1.0</td>\n",
       "      <td>8654</td>\n",
       "    </tr>\n",
       "  </tbody>\n",
       "</table>\n",
       "</div>"
      ],
      "text/plain": [
       "   marital_category  job_category  counts\n",
       "0               0.0           0.0    7623\n",
       "1               0.0           1.0    7353\n",
       "2               1.0           0.0    8931\n",
       "3               1.0           1.0    8654"
      ]
     },
     "execution_count": 17,
     "metadata": {},
     "output_type": "execute_result"
    }
   ],
   "source": [
    "marital_job = df.groupby(['marital_category', 'job_category']).size()\n",
    "marital_job.reset_index(name='counts')"
   ]
  },
  {
   "cell_type": "code",
   "execution_count": 18,
   "id": "basic-conviction",
   "metadata": {},
   "outputs": [
    {
     "data": {
      "text/html": [
       "<div>\n",
       "<style scoped>\n",
       "    .dataframe tbody tr th:only-of-type {\n",
       "        vertical-align: middle;\n",
       "    }\n",
       "\n",
       "    .dataframe tbody tr th {\n",
       "        vertical-align: top;\n",
       "    }\n",
       "\n",
       "    .dataframe thead th {\n",
       "        text-align: right;\n",
       "    }\n",
       "</style>\n",
       "<table border=\"1\" class=\"dataframe\">\n",
       "  <thead>\n",
       "    <tr style=\"text-align: right;\">\n",
       "      <th></th>\n",
       "      <th>race_category</th>\n",
       "      <th>job_category</th>\n",
       "      <th>counts</th>\n",
       "    </tr>\n",
       "  </thead>\n",
       "  <tbody>\n",
       "    <tr>\n",
       "      <th>0</th>\n",
       "      <td>0.0</td>\n",
       "      <td>0.0</td>\n",
       "      <td>14424</td>\n",
       "    </tr>\n",
       "    <tr>\n",
       "      <th>1</th>\n",
       "      <td>0.0</td>\n",
       "      <td>1.0</td>\n",
       "      <td>13392</td>\n",
       "    </tr>\n",
       "    <tr>\n",
       "      <th>2</th>\n",
       "      <td>1.0</td>\n",
       "      <td>0.0</td>\n",
       "      <td>2130</td>\n",
       "    </tr>\n",
       "    <tr>\n",
       "      <th>3</th>\n",
       "      <td>1.0</td>\n",
       "      <td>1.0</td>\n",
       "      <td>2615</td>\n",
       "    </tr>\n",
       "  </tbody>\n",
       "</table>\n",
       "</div>"
      ],
      "text/plain": [
       "   race_category  job_category  counts\n",
       "0            0.0           0.0   14424\n",
       "1            0.0           1.0   13392\n",
       "2            1.0           0.0    2130\n",
       "3            1.0           1.0    2615"
      ]
     },
     "execution_count": 18,
     "metadata": {},
     "output_type": "execute_result"
    }
   ],
   "source": [
    "race_job = df.groupby(['race_category', 'job_category']).size()\n",
    "race_job.reset_index(name='counts')"
   ]
  },
  {
   "cell_type": "code",
   "execution_count": 19,
   "id": "chicken-burlington",
   "metadata": {},
   "outputs": [
    {
     "data": {
      "text/html": [
       "<div>\n",
       "<style scoped>\n",
       "    .dataframe tbody tr th:only-of-type {\n",
       "        vertical-align: middle;\n",
       "    }\n",
       "\n",
       "    .dataframe tbody tr th {\n",
       "        vertical-align: top;\n",
       "    }\n",
       "\n",
       "    .dataframe thead th {\n",
       "        text-align: right;\n",
       "    }\n",
       "</style>\n",
       "<table border=\"1\" class=\"dataframe\">\n",
       "  <thead>\n",
       "    <tr style=\"text-align: right;\">\n",
       "      <th></th>\n",
       "      <th>sex_category</th>\n",
       "      <th>job_category</th>\n",
       "      <th>counts</th>\n",
       "    </tr>\n",
       "  </thead>\n",
       "  <tbody>\n",
       "    <tr>\n",
       "      <th>0</th>\n",
       "      <td>0.0</td>\n",
       "      <td>0.0</td>\n",
       "      <td>9732</td>\n",
       "    </tr>\n",
       "    <tr>\n",
       "      <th>1</th>\n",
       "      <td>0.0</td>\n",
       "      <td>1.0</td>\n",
       "      <td>12058</td>\n",
       "    </tr>\n",
       "    <tr>\n",
       "      <th>2</th>\n",
       "      <td>1.0</td>\n",
       "      <td>0.0</td>\n",
       "      <td>6822</td>\n",
       "    </tr>\n",
       "    <tr>\n",
       "      <th>3</th>\n",
       "      <td>1.0</td>\n",
       "      <td>1.0</td>\n",
       "      <td>3949</td>\n",
       "    </tr>\n",
       "  </tbody>\n",
       "</table>\n",
       "</div>"
      ],
      "text/plain": [
       "   sex_category  job_category  counts\n",
       "0           0.0           0.0    9732\n",
       "1           0.0           1.0   12058\n",
       "2           1.0           0.0    6822\n",
       "3           1.0           1.0    3949"
      ]
     },
     "execution_count": 19,
     "metadata": {},
     "output_type": "execute_result"
    }
   ],
   "source": [
    "sex_job = df.groupby(['sex_category', 'job_category']).size()\n",
    "sex_job.reset_index(name='counts')"
   ]
  },
  {
   "cell_type": "code",
   "execution_count": 20,
   "id": "peaceful-governor",
   "metadata": {},
   "outputs": [
    {
     "data": {
      "text/html": [
       "<div>\n",
       "<style scoped>\n",
       "    .dataframe tbody tr th:only-of-type {\n",
       "        vertical-align: middle;\n",
       "    }\n",
       "\n",
       "    .dataframe tbody tr th {\n",
       "        vertical-align: top;\n",
       "    }\n",
       "\n",
       "    .dataframe thead th {\n",
       "        text-align: right;\n",
       "    }\n",
       "</style>\n",
       "<table border=\"1\" class=\"dataframe\">\n",
       "  <thead>\n",
       "    <tr style=\"text-align: right;\">\n",
       "      <th></th>\n",
       "      <th>country_category</th>\n",
       "      <th>job_category</th>\n",
       "      <th>counts</th>\n",
       "    </tr>\n",
       "  </thead>\n",
       "  <tbody>\n",
       "    <tr>\n",
       "      <th>0</th>\n",
       "      <td>0.0</td>\n",
       "      <td>0.0</td>\n",
       "      <td>15091</td>\n",
       "    </tr>\n",
       "    <tr>\n",
       "      <th>1</th>\n",
       "      <td>0.0</td>\n",
       "      <td>1.0</td>\n",
       "      <td>14079</td>\n",
       "    </tr>\n",
       "    <tr>\n",
       "      <th>2</th>\n",
       "      <td>1.0</td>\n",
       "      <td>0.0</td>\n",
       "      <td>1463</td>\n",
       "    </tr>\n",
       "    <tr>\n",
       "      <th>3</th>\n",
       "      <td>1.0</td>\n",
       "      <td>1.0</td>\n",
       "      <td>1928</td>\n",
       "    </tr>\n",
       "  </tbody>\n",
       "</table>\n",
       "</div>"
      ],
      "text/plain": [
       "   country_category  job_category  counts\n",
       "0               0.0           0.0   15091\n",
       "1               0.0           1.0   14079\n",
       "2               1.0           0.0    1463\n",
       "3               1.0           1.0    1928"
      ]
     },
     "execution_count": 20,
     "metadata": {},
     "output_type": "execute_result"
    }
   ],
   "source": [
    "country_job = df.groupby(['country_category', 'job_category']).size()\n",
    "country_job.reset_index(name='counts')"
   ]
  },
  {
   "cell_type": "code",
   "execution_count": 33,
   "id": "polished-sending",
   "metadata": {},
   "outputs": [],
   "source": [
    "df.loc[df.more_or_less_50 == ' <=50K', 'more_less_50_bin'] = 0\n",
    "df.loc[df.more_or_less_50 == ' >50K', 'more_less_50_bin'] = 1"
   ]
  },
  {
   "cell_type": "code",
   "execution_count": 21,
   "id": "forward-theorem",
   "metadata": {},
   "outputs": [
    {
     "data": {
      "text/plain": [
       "<matplotlib.axes._subplots.AxesSubplot at 0x7fa9ab59cbd0>"
      ]
     },
     "execution_count": 21,
     "metadata": {},
     "output_type": "execute_result"
    },
    {
     "data": {
      "image/png": "[encoded data removed]",
      "text/plain": [
       "<Figure size 432x288 with 1 Axes>"
      ]
     },
     "metadata": {
      "needs_background": "light"
     },
     "output_type": "display_data"
    }
   ],
   "source": [
    "age_education.unstack().plot(kind=\"bar\")"
   ]
  },
  {
   "cell_type": "code",
   "execution_count": 22,
   "id": "atmospheric-integration",
   "metadata": {},
   "outputs": [
    {
     "data": {
      "text/plain": [
       "<matplotlib.axes._subplots.AxesSubplot at 0x7fa9ab481b10>"
      ]
     },
     "execution_count": 22,
     "metadata": {},
     "output_type": "execute_result"
    },
    {
     "data": {
      "image/png": "[encoded data removed]",
      "text/plain": [
       "<Figure size 432x288 with 1 Axes>"
      ]
     },
     "metadata": {
      "needs_background": "light"
     },
     "output_type": "display_data"
    }
   ],
   "source": [
    "marital_education.unstack().plot(kind=\"bar\")"
   ]
  },
  {
   "cell_type": "code",
   "execution_count": 23,
   "id": "unlimited-yahoo",
   "metadata": {},
   "outputs": [
    {
     "data": {
      "text/plain": [
       "<matplotlib.axes._subplots.AxesSubplot at 0x7fa9ab3a0a10>"
      ]
     },
     "execution_count": 23,
     "metadata": {},
     "output_type": "execute_result"
    },
    {
     "data": {
      "image/png": "[encoded data removed]",
      "text/plain": [
       "<Figure size 432x288 with 1 Axes>"
      ]
     },
     "metadata": {
      "needs_background": "light"
     },
     "output_type": "display_data"
    }
   ],
   "source": [
    "race_education.unstack().plot(kind=\"bar\")"
   ]
  },
  {
   "cell_type": "code",
   "execution_count": 24,
   "id": "later-gardening",
   "metadata": {},
   "outputs": [
    {
     "data": {
      "text/plain": [
       "<matplotlib.axes._subplots.AxesSubplot at 0x7fa9ab324710>"
      ]
     },
     "execution_count": 24,
     "metadata": {},
     "output_type": "execute_result"
    },
    {
     "data": {
      "image/png": "[encoded data removed]",
      "text/plain": [
       "<Figure size 432x288 with 1 Axes>"
      ]
     },
     "metadata": {
      "needs_background": "light"
     },
     "output_type": "display_data"
    }
   ],
   "source": [
    "sex_education.unstack().plot(kind=\"bar\")"
   ]
  },
  {
   "cell_type": "code",
   "execution_count": 25,
   "id": "underlying-casino",
   "metadata": {},
   "outputs": [
    {
     "data": {
      "text/plain": [
       "<matplotlib.axes._subplots.AxesSubplot at 0x7fa9ab31fd50>"
      ]
     },
     "execution_count": 25,
     "metadata": {},
     "output_type": "execute_result"
    },
    {
     "data": {
      "image/png": "[encoded data removed]",
      "text/plain": [
       "<Figure size 432x288 with 1 Axes>"
      ]
     },
     "metadata": {
      "needs_background": "light"
     },
     "output_type": "display_data"
    }
   ],
   "source": [
    "country_education.unstack().plot(kind=\"bar\")"
   ]
  },
  {
   "cell_type": "code",
   "execution_count": 26,
   "id": "invisible-eating",
   "metadata": {},
   "outputs": [
    {
     "data": {
      "text/plain": [
       "<matplotlib.axes._subplots.AxesSubplot at 0x7fa9ab605950>"
      ]
     },
     "execution_count": 26,
     "metadata": {},
     "output_type": "execute_result"
    },
    {
     "data": {
      "image/png": "[encoded data removed]",
      "text/plain": [
       "<Figure size 432x288 with 1 Axes>"
      ]
     },
     "metadata": {
      "needs_background": "light"
     },
     "output_type": "display_data"
    }
   ],
   "source": [
    "age_job.unstack().plot(kind=\"bar\")"
   ]
  },
  {
   "cell_type": "code",
   "execution_count": 27,
   "id": "developmental-ordinary",
   "metadata": {},
   "outputs": [
    {
     "data": {
      "text/plain": [
       "<matplotlib.axes._subplots.AxesSubplot at 0x7fa9ab218490>"
      ]
     },
     "execution_count": 27,
     "metadata": {},
     "output_type": "execute_result"
    },
    {
     "data": {
      "image/png": "[encoded data removed]",
      "text/plain": [
       "<Figure size 432x288 with 1 Axes>"
      ]
     },
     "metadata": {
      "needs_background": "light"
     },
     "output_type": "display_data"
    }
   ],
   "source": [
    "marital_job.unstack().plot(kind=\"bar\")"
   ]
  },
  {
   "cell_type": "code",
   "execution_count": 28,
   "id": "parental-fountain",
   "metadata": {},
   "outputs": [
    {
     "data": {
      "text/plain": [
       "<matplotlib.axes._subplots.AxesSubplot at 0x7fa9ab169c50>"
      ]
     },
     "execution_count": 28,
     "metadata": {},
     "output_type": "execute_result"
    },
    {
     "data": {
      "image/png": "[encoded data removed]",
      "text/plain": [
       "<Figure size 432x288 with 1 Axes>"
      ]
     },
     "metadata": {
      "needs_background": "light"
     },
     "output_type": "display_data"
    }
   ],
   "source": [
    "race_job.unstack().plot(kind=\"bar\")"
   ]
  },
  {
   "cell_type": "code",
   "execution_count": 29,
   "id": "finished-assault",
   "metadata": {},
   "outputs": [
    {
     "data": {
      "text/plain": [
       "<matplotlib.axes._subplots.AxesSubplot at 0x7fa9a2f16f90>"
      ]
     },
     "execution_count": 29,
     "metadata": {},
     "output_type": "execute_result"
    },
    {
     "data": {
      "image/png": "[encoded data removed]",
      "text/plain": [
       "<Figure size 432x288 with 1 Axes>"
      ]
     },
     "metadata": {
      "needs_background": "light"
     },
     "output_type": "display_data"
    }
   ],
   "source": [
    "sex_job.unstack().plot(kind=\"bar\")"
   ]
  },
  {
   "cell_type": "code",
   "execution_count": 30,
   "id": "angry-theology",
   "metadata": {},
   "outputs": [
    {
     "data": {
      "text/plain": [
       "<matplotlib.axes._subplots.AxesSubplot at 0x7fa9a2e985d0>"
      ]
     },
     "execution_count": 30,
     "metadata": {},
     "output_type": "execute_result"
    },
    {
     "data": {
      "image/png": "[encoded data removed]",
      "text/plain": [
       "<Figure size 432x288 with 1 Axes>"
      ]
     },
     "metadata": {
      "needs_background": "light"
     },
     "output_type": "display_data"
    }
   ],
   "source": [
    "country_job.unstack().plot(kind=\"bar\")"
   ]
  },
  {
   "cell_type": "markdown",
   "id": "hispanic-cooler",
   "metadata": {},
   "source": [
    "### Step 3\n",
    "The privileged group for the Education variable is having a high school diploma, and the unprivileged group is not finishing high school.  \n",
    "The privileged group for the Job variable is the White-Collar group, and the unprivileged group is the Blue-Collar group."
   ]
  },
  {
   "cell_type": "markdown",
   "id": "loved-holly",
   "metadata": {},
   "source": [
    "#### Education - Age"
   ]
  },
  {
   "cell_type": "code",
   "execution_count": 34,
   "id": "promising-ecuador",
   "metadata": {},
   "outputs": [],
   "source": [
    "def run_fairness(\n",
    "    protected_category='age_category',\n",
    "    privileged_classes=[lambda x: x == 1],\n",
    "    privileged_groups=[{'age_category': 1}],\n",
    "    unprivileged_groups=[{'age_category': 0}],\n",
    "    depedent_category='education_category',\n",
    "    favorable_value=0,\n",
    "):\n",
    "    def favorable(x):\n",
    "        if x == favorable_value:\n",
    "            return True\n",
    "        else:\n",
    "            return False\n",
    "    \n",
    "    sd = StandardDataset(\n",
    "        df=df,\n",
    "        label_name=depedent_category,\n",
    "        favorable_classes=favorable,\n",
    "        protected_attribute_names=[protected_category],\n",
    "        privileged_classes=privileged_classes,\n",
    "        features_to_keep=[\n",
    "            depedent_category,\n",
    "            protected_category,\n",
    "            'more_less_50_bin',\n",
    "            'hours_per_week',\n",
    "            'capital_gain',\n",
    "            'capital_loss',\n",
    "        ]\n",
    "    )\n",
    "    metrics = BinaryLabelDatasetMetric(\n",
    "        sd,\n",
    "        privileged_groups=privileged_groups,\n",
    "        unprivileged_groups=unprivileged_groups\n",
    "    )\n",
    "    print(\"Original SPD: {}\".format(metrics.statistical_parity_difference()))\n",
    "    print(\"Original DI: {}\".format(metrics.disparate_impact()))\n",
    "    disp_ir = Reweighing(\n",
    "        unprivileged_groups, privileged_groups,\n",
    "    ).fit_transform(sd)\n",
    "    new_metrics = BinaryLabelDatasetMetric(disp_ir, \n",
    "                                               unprivileged_groups=unprivileged_groups,\n",
    "                                               privileged_groups=privileged_groups)\n",
    "    print(\"New SPD: {}\".format(new_metrics.statistical_parity_difference()))\n",
    "    print(\"New DI: {}\".format(new_metrics.disparate_impact()))\n",
    "    "
   ]
  },
  {
   "cell_type": "code",
   "execution_count": 35,
   "id": "controlled-horizontal",
   "metadata": {},
   "outputs": [
    {
     "name": "stdout",
     "output_type": "stream",
     "text": [
      "Original SPD: -0.000572319432885382\n",
      "Original DI: 0.9993419389625271\n",
      "New SPD: 2.220446049250313e-16\n",
      "New DI: 1.0000000000000002\n"
     ]
    }
   ],
   "source": [
    "run_fairness(\n",
    "    protected_category='age_category',\n",
    "    privileged_classes=[lambda x: x == 0],\n",
    "    privileged_groups=[{'age_category': 0}],\n",
    "    unprivileged_groups=[{'age_category': 1}],\n",
    "    depedent_category='education_category',\n",
    "    favorable_value=0)"
   ]
  },
  {
   "cell_type": "markdown",
   "id": "reasonable-reducing",
   "metadata": {},
   "source": [
    "##### Protected class - Age\n",
    "Privileged group: <40  \n",
    "Unprivileged group: >40\n",
    "\n",
    "##### Fairness Metrics\n",
    "| Statistic                     | Before Bias Mitigation |  After Bias Mitigation |\n",
    "| ----------------------------- | ---------------------- | ---------------------- |\n",
    "| Statistical Parity Difference | -0.000572319432885382  | 2.220446049250313e-16  |\n",
    "| Disparate Impact              | 0.9993419389625271     | 1.0000000000000002     |"
   ]
  },
  {
   "cell_type": "markdown",
   "id": "clear-canvas",
   "metadata": {},
   "source": [
    "#### Education - Marital"
   ]
  },
  {
   "cell_type": "code",
   "execution_count": 36,
   "id": "nearby-riverside",
   "metadata": {},
   "outputs": [
    {
     "name": "stdout",
     "output_type": "stream",
     "text": [
      "Original SPD: 0.03228379510144863\n",
      "Original DI: 1.0377793662646553\n",
      "New SPD: 2.220446049250313e-16\n",
      "New DI: 1.0000000000000002\n"
     ]
    }
   ],
   "source": [
    "run_fairness(\n",
    "    protected_category='marital_category',\n",
    "    privileged_classes=[lambda x: x == 0],\n",
    "    privileged_groups=[{'marital_category': 0}],\n",
    "    unprivileged_groups=[{'marital_category': 1}],\n",
    "    depedent_category='education_category',\n",
    "    favorable_value=0)"
   ]
  },
  {
   "cell_type": "markdown",
   "id": "modern-kazakhstan",
   "metadata": {},
   "source": [
    "##### Protected class - Marital status\n",
    "Privileged group: Married  \n",
    "Unprivileged group: Not Married\n",
    "\n",
    "##### Fairness Metrics\n",
    "| Statistic                     | Before Bias Mitigation |  After Bias Mitigation |\n",
    "| ----------------------------- | ---------------------- | ---------------------- |\n",
    "| Statistical Parity Difference | 0.03228379510144863    | 2.220446049250313e-16  |\n",
    "| Disparate Impact              | 1.0377793662646553     | 1.0000000000000002     |"
   ]
  },
  {
   "cell_type": "markdown",
   "id": "secondary-provision",
   "metadata": {},
   "source": [
    "#### Education - Race"
   ]
  },
  {
   "cell_type": "code",
   "execution_count": 37,
   "id": "specific-albania",
   "metadata": {},
   "outputs": [
    {
     "name": "stdout",
     "output_type": "stream",
     "text": [
      "Original SPD: 0.03755377426793505\n",
      "Original DI: 1.0448509083567459\n",
      "New SPD: -1.1102230246251565e-16\n",
      "New DI: 0.9999999999999999\n"
     ]
    }
   ],
   "source": [
    "run_fairness(\n",
    "    protected_category='race_category',\n",
    "    privileged_classes=[lambda x: x == 0],\n",
    "    privileged_groups=[{'race_category': 0}],\n",
    "    unprivileged_groups=[{'race_category': 1}],\n",
    "    depedent_category='education_category',\n",
    "    favorable_value=0)"
   ]
  },
  {
   "cell_type": "markdown",
   "id": "anticipated-spotlight",
   "metadata": {},
   "source": [
    "##### Protected class - Race\n",
    "Privileged group: White  \n",
    "Unprivileged group: Not White\n",
    "\n",
    "##### Fairness Metrics\n",
    "| Statistic                     | Before Bias Mitigation |  After Bias Mitigation  |\n",
    "| ----------------------------- | ---------------------- | ----------------------- |\n",
    "| Statistical Parity Difference | 0.03755377426793505    | -1.1102230246251565e-16 |\n",
    "| Disparate Impact              | 1.0448509083567459     | 0.9999999999999999      |"
   ]
  },
  {
   "cell_type": "markdown",
   "id": "progressive-sheriff",
   "metadata": {},
   "source": [
    "#### Education - Sex"
   ]
  },
  {
   "cell_type": "code",
   "execution_count": 38,
   "id": "designed-quebec",
   "metadata": {},
   "outputs": [
    {
     "name": "stdout",
     "output_type": "stream",
     "text": [
      "Original SPD: -0.011912999266425417\n",
      "Original DI: 0.986421702105961\n",
      "New SPD: 2.220446049250313e-16\n",
      "New DI: 1.0000000000000002\n"
     ]
    }
   ],
   "source": [
    "run_fairness(\n",
    "    protected_category='sex_category',\n",
    "    privileged_classes=[lambda x: x == 0],\n",
    "    privileged_groups=[{'sex_category': 0}],\n",
    "    unprivileged_groups=[{'sex_category': 1}],\n",
    "    depedent_category='education_category',\n",
    "    favorable_value=0)"
   ]
  },
  {
   "cell_type": "markdown",
   "id": "later-moisture",
   "metadata": {},
   "source": [
    "##### Protected class - Sex\n",
    "Privileged group: Male  \n",
    "Unprivileged group: Female\n",
    "\n",
    "##### Fairness Metrics\n",
    "| Statistic                     | Before Bias Mitigation |  After Bias Mitigation |\n",
    "| ----------------------------- | ---------------------- | ---------------------- |\n",
    "| Statistical Parity Difference | -0.011912999266425417  | 2.220446049250313e-16  |\n",
    "| Disparate Impact              | 0.986421702105961      | 1.0000000000000002     |"
   ]
  },
  {
   "cell_type": "markdown",
   "id": "authentic-corporation",
   "metadata": {},
   "source": [
    "#### Education - Native Country"
   ]
  },
  {
   "cell_type": "code",
   "execution_count": 39,
   "id": "general-guest",
   "metadata": {},
   "outputs": [
    {
     "name": "stdout",
     "output_type": "stream",
     "text": [
      "Original SPD: 0.15671599194746788\n",
      "Original DI: 1.2149773174327927\n",
      "New SPD: -2.220446049250313e-16\n",
      "New DI: 0.9999999999999998\n"
     ]
    }
   ],
   "source": [
    "run_fairness(\n",
    "    protected_category='country_category',\n",
    "    privileged_classes=[lambda x: x == 0],\n",
    "    privileged_groups=[{'country_category': 0}],\n",
    "    unprivileged_groups=[{'country_category': 1}],\n",
    "    depedent_category='education_category',\n",
    "    favorable_value=0)"
   ]
  },
  {
   "cell_type": "markdown",
   "id": "accurate-camcorder",
   "metadata": {},
   "source": [
    "##### Protected class - Native country\n",
    "Privileged group: United States  \n",
    "Unprivileged group: Not United States\n",
    "\n",
    "##### Fairness Metrics\n",
    "| Statistic                     | Before Bias Mitigation |  After Bias Mitigation |\n",
    "| ----------------------------- | ---------------------- | ---------------------- |\n",
    "| Statistical Parity Difference | 0.15671599194746788    | -2.220446049250313e-16 |\n",
    "| Disparate Impact              | 1.2149773174327927     | 0.9999999999999998     |"
   ]
  },
  {
   "cell_type": "markdown",
   "id": "stone-gibraltar",
   "metadata": {},
   "source": [
    "#### Job - Age"
   ]
  },
  {
   "cell_type": "code",
   "execution_count": 40,
   "id": "silver-strike",
   "metadata": {},
   "outputs": [
    {
     "name": "stdout",
     "output_type": "stream",
     "text": [
      "Original SPD: -0.05964984013955166\n",
      "Original DI: 0.889938468887144\n",
      "New SPD: 0.0\n",
      "New DI: 1.0\n"
     ]
    }
   ],
   "source": [
    "run_fairness(\n",
    "    protected_category='age_category',\n",
    "    privileged_classes=[lambda x: x == 0],\n",
    "    privileged_groups=[{'age_category': 0}],\n",
    "    unprivileged_groups=[{'age_category': 1}],\n",
    "    depedent_category='job_category',\n",
    "    favorable_value=0\n",
    ")"
   ]
  },
  {
   "cell_type": "markdown",
   "id": "colored-designation",
   "metadata": {},
   "source": [
    "##### Protected class - Age\n",
    "Privileged group: <40  \n",
    "Unprivileged group: >40\n",
    "\n",
    "##### Fairness Metrics\n",
    "| Statistic                     | Before Bias Mitigation |  After Bias Mitigation |\n",
    "| ----------------------------- | ---------------------- | ---------------------- |\n",
    "| Statistical Parity Difference | -0.05964984013955166   | 0.0                    |\n",
    "| Disparate Impact              | 0.889938468887144      | 1.0                    |"
   ]
  },
  {
   "cell_type": "markdown",
   "id": "terminal-restriction",
   "metadata": {},
   "source": [
    "#### Job - Marital"
   ]
  },
  {
   "cell_type": "code",
   "execution_count": 41,
   "id": "collectible-harvey",
   "metadata": {},
   "outputs": [
    {
     "name": "stdout",
     "output_type": "stream",
     "text": [
      "Original SPD: 0.0011383923689333164\n",
      "Original DI: 1.0022414768567565\n",
      "New SPD: 2.220446049250313e-16\n",
      "New DI: 1.0000000000000004\n"
     ]
    }
   ],
   "source": [
    "run_fairness(\n",
    "    protected_category='marital_category',\n",
    "    privileged_classes=[lambda x: x == 0],\n",
    "    privileged_groups=[{'marital_category': 0}],\n",
    "    unprivileged_groups=[{'marital_category': 1}],\n",
    "    depedent_category='job_category',\n",
    "    favorable_value=0\n",
    ")"
   ]
  },
  {
   "cell_type": "markdown",
   "id": "guided-necklace",
   "metadata": {},
   "source": [
    "##### Protected class - Marital status\n",
    "Privileged group: Married  \n",
    "Unprivileged group: Not married\n",
    "\n",
    "##### Fairness Metrics\n",
    "| Statistic                     | Before Bias Mitigation |  After Bias Mitigation |\n",
    "| ----------------------------- | ---------------------- | ---------------------- |\n",
    "| Statistical Parity Difference | 0.0011383923689333164  | 2.220446049250313e-16  |\n",
    "| Disparate Impact              | 1.0022414768567565     | 1.0000000000000004     |"
   ]
  },
  {
   "cell_type": "markdown",
   "id": "similar-burst",
   "metadata": {},
   "source": [
    "#### Job - Race"
   ]
  },
  {
   "cell_type": "code",
   "execution_count": 42,
   "id": "seeing-highland",
   "metadata": {},
   "outputs": [
    {
     "name": "stdout",
     "output_type": "stream",
     "text": [
      "Original SPD: 0.06965690236577987\n",
      "Original DI: 1.1551746486974768\n",
      "New SPD: 2.220446049250313e-16\n",
      "New DI: 1.0000000000000004\n"
     ]
    }
   ],
   "source": [
    "run_fairness(\n",
    "    protected_category='race_category',\n",
    "    privileged_classes=[lambda x: x == 0],\n",
    "    privileged_groups=[{'race_category': 0}],\n",
    "    unprivileged_groups=[{'race_category': 1}],\n",
    "    depedent_category='job_category',\n",
    "    favorable_value=0\n",
    ")"
   ]
  },
  {
   "cell_type": "markdown",
   "id": "incredible-tanzania",
   "metadata": {},
   "source": [
    "##### Protected class - Race\n",
    "Privileged group: White  \n",
    "Unprivileged group: Not white\n",
    "\n",
    "##### Fairness Metrics\n",
    "| Statistic                     | Before Bias Mitigation |  After Bias Mitigation |\n",
    "| ----------------------------- | ---------------------- | ---------------------- |\n",
    "| Statistical Parity Difference | 0.06965690236577987    | 2.220446049250313e-16  |\n",
    "| Disparate Impact              | 1.1551746486974768     | 1.0000000000000004     |"
   ]
  },
  {
   "cell_type": "markdown",
   "id": "destroyed-jacob",
   "metadata": {},
   "source": [
    "#### Job - Sex"
   ]
  },
  {
   "cell_type": "code",
   "execution_count": 43,
   "id": "opened-outreach",
   "metadata": {},
   "outputs": [
    {
     "name": "stdout",
     "output_type": "stream",
     "text": [
      "Original SPD: -0.1867404822895466\n",
      "Original DI: 0.7051624545967888\n",
      "New SPD: -2.220446049250313e-16\n",
      "New DI: 0.9999999999999996\n"
     ]
    }
   ],
   "source": [
    "run_fairness(\n",
    "    protected_category='sex_category',\n",
    "    privileged_classes=[lambda x: x == 0],\n",
    "    privileged_groups=[{'sex_category': 0}],\n",
    "    unprivileged_groups=[{'sex_category': 1}],\n",
    "    depedent_category='job_category',\n",
    "    favorable_value=0\n",
    ")"
   ]
  },
  {
   "cell_type": "markdown",
   "id": "diagnostic-organization",
   "metadata": {},
   "source": [
    "##### Protected class - Sex\n",
    "Privileged group: Male  \n",
    "Unprivileged group: Female\n",
    "\n",
    "##### Fairness Metrics\n",
    "| Statistic                     | Before Bias Mitigation |  After Bias Mitigation |\n",
    "| ----------------------------- | ---------------------- | ---------------------- |\n",
    "| Statistical Parity Difference | -0.1867404822895466    | -2.220446049250313e-16 |\n",
    "| Disparate Impact              | 0.7051624545967888     | 0.9999999999999996     |"
   ]
  },
  {
   "cell_type": "markdown",
   "id": "colored-highland",
   "metadata": {},
   "source": [
    "#### Job - Native Country"
   ]
  },
  {
   "cell_type": "code",
   "execution_count": 44,
   "id": "shared-collar",
   "metadata": {},
   "outputs": [
    {
     "name": "stdout",
     "output_type": "stream",
     "text": [
      "Original SPD: 0.0859104344345733\n",
      "Original DI: 1.1991266460475996\n",
      "New SPD: -1.1102230246251565e-16\n",
      "New DI: 0.9999999999999998\n"
     ]
    }
   ],
   "source": [
    "run_fairness(\n",
    "    protected_category='country_category',\n",
    "    privileged_classes=[lambda x: x == 0],\n",
    "    privileged_groups=[{'country_category': 0}],\n",
    "    unprivileged_groups=[{'country_category': 1}],\n",
    "    depedent_category='job_category',\n",
    "    favorable_value=0\n",
    ")"
   ]
  },
  {
   "cell_type": "markdown",
   "id": "further-spectacular",
   "metadata": {},
   "source": [
    "##### Protected class - Native country\n",
    "Privileged group: United States  \n",
    "Unprivileged group: Not United States\n",
    "\n",
    "##### Fairness Metrics\n",
    "| Statistic                     | Before Bias Mitigation |  After Bias Mitigation  |\n",
    "| ----------------------------- | ---------------------- | ----------------------- |\n",
    "| Statistical Parity Difference | 0.0859104344345733     | -1.1102230246251565e-16 |\n",
    "| Disparate Impact              | 1.1991266460475996     | 0.9999999999999998      |"
   ]
  },
  {
   "cell_type": "markdown",
   "id": "medium-luther",
   "metadata": {},
   "source": [
    "### Step 4\n",
    "#### Option A"
   ]
  },
  {
   "cell_type": "code",
   "execution_count": 45,
   "id": "generous-catholic",
   "metadata": {},
   "outputs": [],
   "source": [
    "\n",
    "protected_category='sex_category'\n",
    "privileged_classes=[lambda x: x == 0]\n",
    "privileged_groups=[{'sex_category': 0}]\n",
    "unprivileged_groups=[{'sex_category': 1}]\n",
    "depedent_category='job_category'\n",
    "favorable_value=0\n",
    "def favorable(x):\n",
    "    if x == favorable_value:\n",
    "        return True\n",
    "    else:\n",
    "        return False\n",
    "sd = StandardDataset(\n",
    "    df=df,\n",
    "    label_name=depedent_category,\n",
    "    favorable_classes=favorable,\n",
    "    protected_attribute_names=[protected_category],\n",
    "    privileged_classes=privileged_classes,\n",
    "    features_to_keep=[\n",
    "        depedent_category,\n",
    "        protected_category,\n",
    "        'more_less_50_bin',\n",
    "        'hours_per_week',\n",
    "        'capital_gain',\n",
    "        'capital_loss',\n",
    "    ]\n",
    ")\n",
    "sd_rw = Reweighing(\n",
    "        unprivileged_groups, privileged_groups,\n",
    "    ).fit_transform(sd)\n",
    "\n",
    "dataset_orig_train, dataset_orig_test = sd.split([0.7], shuffle=True)\n",
    "dataset_rw_train, dataset_rw_test = sd_rw.split([0.7], shuffle=True)"
   ]
  },
  {
   "cell_type": "code",
   "execution_count": 46,
   "id": "higher-baseline",
   "metadata": {},
   "outputs": [],
   "source": [
    "# Logistic regression classifier and predictions\n",
    "scale_orig = StandardScaler()\n",
    "X_train = scale_orig.fit_transform(dataset_orig_train.features)\n",
    "y_train = dataset_orig_train.labels.ravel()\n",
    "w_train = dataset_orig_train.instance_weights.ravel()\n",
    "\n",
    "lmod = LogisticRegression()\n",
    "lmod.fit(X_train, y_train, \n",
    "         sample_weight=dataset_orig_train.instance_weights)\n",
    "scale2 = StandardScaler()\n",
    "X_test = scale2.fit_transform(dataset_orig_test.features)\n",
    "y_train_pred = lmod.predict(X_test)\n",
    "\n",
    "# positive class index\n",
    "pos_ind = np.where(lmod.classes_ == dataset_orig_train.favorable_label)[0][0]\n",
    "\n",
    "dataset_orig_test_pred = dataset_orig_test.copy()\n",
    "y_train_pred.shape = dataset_orig_test.labels.shape\n",
    "dataset_orig_test.labels = y_train_pred"
   ]
  },
  {
   "cell_type": "code",
   "execution_count": 47,
   "id": "theoretical-active",
   "metadata": {},
   "outputs": [
    {
     "name": "stdout",
     "output_type": "stream",
     "text": [
      "Original SPD: -0.19192260899643776\n",
      "Original DI: 0.6969593158047362\n"
     ]
    }
   ],
   "source": [
    "# Now run metrics on dataset_orig_train_pred?\n",
    "metrics = BinaryLabelDatasetMetric(\n",
    "    dataset_orig_test_pred,\n",
    "    privileged_groups=privileged_groups,\n",
    "    unprivileged_groups=unprivileged_groups\n",
    ")\n",
    "print(\"Original SPD: {}\".format(metrics.statistical_parity_difference()))\n",
    "print(\"Original DI: {}\".format(metrics.disparate_impact()))"
   ]
  },
  {
   "cell_type": "code",
   "execution_count": 48,
   "id": "statewide-vancouver",
   "metadata": {},
   "outputs": [],
   "source": [
    "# Logistic regression classifier and predictions\n",
    "scale_orig = StandardScaler()\n",
    "X_train = scale_orig.fit_transform(dataset_rw_train.features)\n",
    "y_train = dataset_rw_train.labels.ravel()\n",
    "w_train = dataset_orig_train.instance_weights.ravel()\n",
    "\n",
    "lmod = LogisticRegression()\n",
    "lmod.fit(X_train, y_train, \n",
    "         sample_weight=dataset_rw_train.instance_weights)\n",
    "scale2 = StandardScaler()\n",
    "X_test = scale_orig.fit_transform(dataset_rw_test.features)\n",
    "y_train_pred = lmod.predict(X_test)\n",
    "\n",
    "# positive class index\n",
    "pos_ind = np.where(lmod.classes_ == dataset_rw_train.favorable_label)[0][0]\n",
    "\n",
    "dataset_rw_test_pred = dataset_rw_test.copy()\n",
    "y_train_pred.shape = dataset_rw_test.labels.shape\n",
    "dataset_rw_test_pred.labels = y_train_pred"
   ]
  },
  {
   "cell_type": "code",
   "execution_count": 49,
   "id": "chief-bibliography",
   "metadata": {},
   "outputs": [
    {
     "name": "stdout",
     "output_type": "stream",
     "text": [
      "New SPD: 0.08937834560831542\n",
      "New DI: 1.3552660072981788\n"
     ]
    }
   ],
   "source": [
    "# Now run metrics on dataset_rw_train_pred?\n",
    "new_metrics = BinaryLabelDatasetMetric(dataset_rw_test_pred, \n",
    "               unprivileged_groups=unprivileged_groups,\n",
    "               privileged_groups=privileged_groups\n",
    ")\n",
    "print(\"New SPD: {}\".format(new_metrics.statistical_parity_difference()))\n",
    "print(\"New DI: {}\".format(new_metrics.disparate_impact()))"
   ]
  },
  {
   "cell_type": "markdown",
   "id": "asian-cloud",
   "metadata": {},
   "source": [
    "Privileged Group: Male\n",
    "Unprivileged Group: Female\n",
    "\n",
    "Dependent Variable: Job category, i.e. white collar and blue collar\n",
    "\n",
    "| Statistic                     | No Bias Mitigation |  After Bias Mitigation | Change |\n",
    "| ----------------------------- | ---------------------- | ---------------------- | - |\n",
    "| Statistical Parity Difference | -0.1867    | -2.2e-16 | Positive | \n",
    "| Disparate Impact              | 0.7052     | 0.9999     | Positive | \n",
    "\n",
    "| Statistic  |  Predicted No Bias Mitigation | Predicted After Bias Mitigation | Change |\n",
    "| - | - | - | - |\n",
    "| Statistical Parity Difference | -0.1819  | 0.0990  | Positive |\n",
    "| Disparate Impact              | 0.7094     | 1.415     | Negative |\n",
    "\n"
   ]
  },
  {
   "cell_type": "markdown",
   "id": "second-chemical",
   "metadata": {},
   "source": [
    "### Step 5"
   ]
  },
  {
   "cell_type": "markdown",
   "id": "restricted-official",
   "metadata": {},
   "source": [
    "Members: Carli Lessard, Men Cheol Jeong"
   ]
  },
  {
   "cell_type": "markdown",
   "id": "comfortable-briefing",
   "metadata": {},
   "source": [
    "(graphs are below)\n",
    "In this case, where we are trying to predict whether someone will are in a blue collar or white collar job, we expect no difference between men and women with a fair model. Thus, we should optimize for mean difference. "
   ]
  },
  {
   "cell_type": "markdown",
   "id": "silver-transcription",
   "metadata": {},
   "source": [
    "Men Cheol's response:  \n",
    "Yes, the approach seems to work in mitigate some bias. That is, the statistical parity difference was improved positively. However, we were unable to improve disparate impact. Our transformed model gave a positive advantage to the Female group. The transormed model disadvantaged the female group. Bias-mitigated models are only as good as the people that use them. If an employer were to use this model to predict whether someone was a good fit for their job, they should consider whether such a model feeds in a self-fulfilling prophecy. For example, this model uses Census data which may highlight high income subgroups as good fits for white collar jobs, enforcing existing biases \n",
    "\n",
    "\n",
    "Carli's response:  "
   ]
  },
  {
   "cell_type": "code",
   "execution_count": 50,
   "id": "progressive-dependence",
   "metadata": {},
   "outputs": [
    {
     "data": {
      "text/plain": [
       "0.6969593158047362"
      ]
     },
     "execution_count": 50,
     "metadata": {},
     "output_type": "execute_result"
    },
    {
     "data": {
      "image/png": "[encoded data removed]",
      "text/plain": [
       "<Figure size 432x288 with 1 Axes>"
      ]
     },
     "metadata": {
      "needs_background": "light"
     },
     "output_type": "display_data"
    }
   ],
   "source": [
    "# Step 5:\n",
    "plt.clf()\n",
    "ax = plt.bar(['Sex'], [metrics.disparate_impact()], )\n",
    "plt.ylim(0, 2)\n",
    "plt.axhline(y = 1, c='black')\n",
    "plt.axhspan(0.9, 1.1, color='green', alpha=0.2)\n",
    "plt.axhspan(1.1, 2, color='red', alpha=0.2)\n",
    "plt.axhspan(0, 0.9, color='red', alpha=0.2)\n",
    "plt.title('Disparate Impact')\n",
    "metrics.disparate_impact()"
   ]
  },
  {
   "cell_type": "code",
   "execution_count": 51,
   "id": "distant-soldier",
   "metadata": {},
   "outputs": [
    {
     "data": {
      "text/plain": [
       "1.3552660072981788"
      ]
     },
     "execution_count": 51,
     "metadata": {},
     "output_type": "execute_result"
    },
    {
     "data": {
      "image/png": "[encoded data removed]",
      "text/plain": [
       "<Figure size 432x288 with 1 Axes>"
      ]
     },
     "metadata": {
      "needs_background": "light"
     },
     "output_type": "display_data"
    }
   ],
   "source": [
    "# Step 5:\n",
    "ax = plt.bar(['Sex'], [new_metrics.disparate_impact()], )\n",
    "plt.ylim(0, 2)\n",
    "plt.axhline(y = 1, c='black')\n",
    "plt.axhspan(0.9, 1.1, color='green', alpha=0.2)\n",
    "plt.axhspan(1.1, 2, color='red', alpha=0.2)\n",
    "plt.axhspan(0, 0.9, color='red', alpha=0.2)\n",
    "plt.title('Disparate Impact')\n",
    "new_metrics.disparate_impact()"
   ]
  },
  {
   "cell_type": "code",
   "execution_count": 52,
   "id": "relevant-progressive",
   "metadata": {},
   "outputs": [
    {
     "data": {
      "text/plain": [
       "-0.19192260899643776"
      ]
     },
     "execution_count": 52,
     "metadata": {},
     "output_type": "execute_result"
    },
    {
     "data": {
      "image/png": "[encoded data removed]",
      "text/plain": [
       "<Figure size 432x288 with 1 Axes>"
      ]
     },
     "metadata": {
      "needs_background": "light"
     },
     "output_type": "display_data"
    }
   ],
   "source": [
    "plt.clf()\n",
    "plt.bar(['Sex'], [metrics.mean_difference()])\n",
    "plt.ylim(-1, 1)\n",
    "plt.axhline(y = 1, c='black')\n",
    "plt.axhspan(-0.1, 0.1, color='green', alpha=0.2)\n",
    "plt.axhspan(0.1, 1, color='red', alpha=0.2)\n",
    "plt.axhspan(-1, -0.1, color='red', alpha=0.2)\n",
    "plt.title('Mean Difference')\n",
    "metrics.mean_difference()"
   ]
  },
  {
   "cell_type": "code",
   "execution_count": 53,
   "id": "sound-stone",
   "metadata": {},
   "outputs": [
    {
     "data": {
      "text/plain": [
       "0.08937834560831542"
      ]
     },
     "execution_count": 53,
     "metadata": {},
     "output_type": "execute_result"
    },
    {
     "data": {
      "image/png": "[encoded data removed]",
      "text/plain": [
       "<Figure size 432x288 with 1 Axes>"
      ]
     },
     "metadata": {
      "needs_background": "light"
     },
     "output_type": "display_data"
    }
   ],
   "source": [
    "plt.clf()\n",
    "plt.bar(['Sex'], [new_metrics.mean_difference()])\n",
    "plt.ylim(-1, 1)\n",
    "plt.axhline(y = 1, c='black')\n",
    "plt.axhspan(-0.1, 0.1, color='green', alpha=0.2)\n",
    "plt.axhspan(0.1, 1, color='red', alpha=0.2)\n",
    "plt.axhspan(-1, -0.1, color='red', alpha=0.2)\n",
    "plt.title('Mean Difference')\n",
    "new_metrics.mean_difference()"
   ]
  },
  {
   "cell_type": "code",
   "execution_count": null,
   "id": "raised-impression",
   "metadata": {},
   "outputs": [],
   "source": []
  }
 ],
 "metadata": {
  "kernelspec": {
   "display_name": "aif360",
   "language": "python",
   "name": "aif360"
  },
  "language_info": {
   "codemirror_mode": {
    "name": "ipython",
    "version": 3
   },
   "file_extension": ".py",
   "mimetype": "text/x-python",
   "name": "python",
   "nbconvert_exporter": "python",
   "pygments_lexer": "ipython3",
   "version": "3.7.9"
  }
 },
 "nbformat": 4,
 "nbformat_minor": 5
}
